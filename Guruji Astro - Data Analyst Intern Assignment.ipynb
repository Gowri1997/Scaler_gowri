{
 "cells": [
  {
   "cell_type": "markdown",
   "id": "5b704eff",
   "metadata": {},
   "source": [
    "# Guruji Astro - Data Analyst Intern Assignment\n",
    "## Submitted by- Gowri S\n",
    "###  E-mail:gowris1997@gmail.com\n",
    "###  Phone: 9447442456"
   ]
  },
  {
   "cell_type": "markdown",
   "id": "282da1a6",
   "metadata": {},
   "source": [
    "### In this case study we indent to  conduct data analysis on  will be working with a dataset that contains call center performance data to delve into the factors influencing the call center performance\n"
   ]
  },
  {
   "cell_type": "markdown",
   "id": "f408aa00",
   "metadata": {},
   "source": [
    "## Task 1: Data Exploration"
   ]
  },
  {
   "cell_type": "markdown",
   "id": "98febb5f",
   "metadata": {},
   "source": [
    "### 1. Load the dataset into your preferred data analysis tool"
   ]
  },
  {
   "cell_type": "code",
   "execution_count": 1,
   "id": "520c50c7",
   "metadata": {},
   "outputs": [],
   "source": [
    "import pandas as pd\n",
    "import numpy as np\n",
    "import matplotlib.pyplot as plt\n",
    "import seaborn as sn\n",
    "import warnings\n",
    "warnings.filterwarnings('ignore')"
   ]
  },
  {
   "cell_type": "code",
   "execution_count": 2,
   "id": "250404b2",
   "metadata": {},
   "outputs": [
    {
     "data": {
      "text/html": [
       "<div>\n",
       "<style scoped>\n",
       "    .dataframe tbody tr th:only-of-type {\n",
       "        vertical-align: middle;\n",
       "    }\n",
       "\n",
       "    .dataframe tbody tr th {\n",
       "        vertical-align: top;\n",
       "    }\n",
       "\n",
       "    .dataframe thead th {\n",
       "        text-align: right;\n",
       "    }\n",
       "</style>\n",
       "<table border=\"1\" class=\"dataframe\">\n",
       "  <thead>\n",
       "    <tr style=\"text-align: right;\">\n",
       "      <th></th>\n",
       "      <th>_id</th>\n",
       "      <th>user</th>\n",
       "      <th>chatStatus</th>\n",
       "      <th>guru</th>\n",
       "      <th>guruName</th>\n",
       "      <th>gid</th>\n",
       "      <th>uid</th>\n",
       "      <th>consultationType</th>\n",
       "      <th>website</th>\n",
       "      <th>refundStatus</th>\n",
       "      <th>isWhiteListUser</th>\n",
       "      <th>chatSeconds</th>\n",
       "      <th>queue</th>\n",
       "      <th>freeCall</th>\n",
       "      <th>freeChat</th>\n",
       "      <th>createdAt</th>\n",
       "      <th>updatedAt</th>\n",
       "      <th>__v</th>\n",
       "      <th>statementEntryId</th>\n",
       "      <th>chatStartTime</th>\n",
       "      <th>chatEndTime</th>\n",
       "      <th>timeDuration</th>\n",
       "      <th>callChannel</th>\n",
       "      <th>callIvrType</th>\n",
       "      <th>callStatus</th>\n",
       "      <th>CallSid</th>\n",
       "      <th>amount</th>\n",
       "      <th>astrologerCallStatus</th>\n",
       "      <th>astrologerOnCallDuration</th>\n",
       "      <th>astrologersEarnings</th>\n",
       "      <th>netAmount</th>\n",
       "      <th>region</th>\n",
       "      <th>userCallStatus</th>\n",
       "      <th>userOnCallDuration</th>\n",
       "      <th>RecordingUrl</th>\n",
       "      <th>feedback</th>\n",
       "      <th>hideHistory</th>\n",
       "      <th>cardPosition</th>\n",
       "      <th>Remedies</th>\n",
       "      <th>offer</th>\n",
       "      <th>refunds[0]</th>\n",
       "      <th>source</th>\n",
       "      <th>callSeconds</th>\n",
       "      <th>complementaryCallOrganiser</th>\n",
       "      <th>disconnectedBy</th>\n",
       "    </tr>\n",
       "  </thead>\n",
       "  <tbody>\n",
       "    <tr>\n",
       "      <th>0</th>\n",
       "      <td>656922f2919324acb6e87139</td>\n",
       "      <td>65691b0c919324acb6e7e046</td>\n",
       "      <td>incomplete</td>\n",
       "      <td>65054786f5f203225bfcdd0d</td>\n",
       "      <td>Astro  Sanjeev</td>\n",
       "      <td>95</td>\n",
       "      <td>30129</td>\n",
       "      <td>Chat</td>\n",
       "      <td>gurucool</td>\n",
       "      <td>no-refund</td>\n",
       "      <td>False</td>\n",
       "      <td>300.0</td>\n",
       "      <td>False</td>\n",
       "      <td>False</td>\n",
       "      <td>True</td>\n",
       "      <td>2023-12-01T00:04:02.993Z</td>\n",
       "      <td>2023-12-01T00:07:33.833Z</td>\n",
       "      <td>0</td>\n",
       "      <td>656922f3919324acb6e8713b</td>\n",
       "      <td>2023-12-01T00:07:33.248Z</td>\n",
       "      <td>2023-12-01T00:07:33.773Z</td>\n",
       "      <td>0.008750</td>\n",
       "      <td>NaN</td>\n",
       "      <td>NaN</td>\n",
       "      <td>NaN</td>\n",
       "      <td>NaN</td>\n",
       "      <td>NaN</td>\n",
       "      <td>NaN</td>\n",
       "      <td>NaN</td>\n",
       "      <td>NaN</td>\n",
       "      <td>NaN</td>\n",
       "      <td>NaN</td>\n",
       "      <td>NaN</td>\n",
       "      <td>NaN</td>\n",
       "      <td>NaN</td>\n",
       "      <td>NaN</td>\n",
       "      <td>NaN</td>\n",
       "      <td>NaN</td>\n",
       "      <td>NaN</td>\n",
       "      <td>NaN</td>\n",
       "      <td>NaN</td>\n",
       "      <td>NaN</td>\n",
       "      <td>NaN</td>\n",
       "      <td>NaN</td>\n",
       "      <td>NaN</td>\n",
       "    </tr>\n",
       "    <tr>\n",
       "      <th>1</th>\n",
       "      <td>65692413919324acb6e87441</td>\n",
       "      <td>65691b0c919324acb6e7e046</td>\n",
       "      <td>incomplete</td>\n",
       "      <td>65054786f5f203225bfcdd0d</td>\n",
       "      <td>Astro  Sanjeev</td>\n",
       "      <td>95</td>\n",
       "      <td>30129</td>\n",
       "      <td>Chat</td>\n",
       "      <td>gurucool</td>\n",
       "      <td>no-refund</td>\n",
       "      <td>False</td>\n",
       "      <td>300.0</td>\n",
       "      <td>False</td>\n",
       "      <td>False</td>\n",
       "      <td>True</td>\n",
       "      <td>2023-12-01T00:08:51.903Z</td>\n",
       "      <td>2023-12-01T00:09:56.111Z</td>\n",
       "      <td>0</td>\n",
       "      <td>65692413919324acb6e87443</td>\n",
       "      <td>2023-12-01T00:09:55.808Z</td>\n",
       "      <td>2023-12-01T00:09:56.052Z</td>\n",
       "      <td>0.004067</td>\n",
       "      <td>NaN</td>\n",
       "      <td>NaN</td>\n",
       "      <td>NaN</td>\n",
       "      <td>NaN</td>\n",
       "      <td>NaN</td>\n",
       "      <td>NaN</td>\n",
       "      <td>NaN</td>\n",
       "      <td>NaN</td>\n",
       "      <td>NaN</td>\n",
       "      <td>NaN</td>\n",
       "      <td>NaN</td>\n",
       "      <td>NaN</td>\n",
       "      <td>NaN</td>\n",
       "      <td>NaN</td>\n",
       "      <td>NaN</td>\n",
       "      <td>NaN</td>\n",
       "      <td>NaN</td>\n",
       "      <td>NaN</td>\n",
       "      <td>NaN</td>\n",
       "      <td>NaN</td>\n",
       "      <td>NaN</td>\n",
       "      <td>NaN</td>\n",
       "      <td>NaN</td>\n",
       "    </tr>\n",
       "    <tr>\n",
       "      <th>2</th>\n",
       "      <td>65692612919324acb6e87738</td>\n",
       "      <td>656528dcee2b1ab52f019119</td>\n",
       "      <td>incomplete</td>\n",
       "      <td>65054786f5f203225bfcdd0d</td>\n",
       "      <td>Astro  Sanjeev</td>\n",
       "      <td>95</td>\n",
       "      <td>28743</td>\n",
       "      <td>Chat</td>\n",
       "      <td>gurucool</td>\n",
       "      <td>no-refund</td>\n",
       "      <td>False</td>\n",
       "      <td>300.0</td>\n",
       "      <td>False</td>\n",
       "      <td>False</td>\n",
       "      <td>True</td>\n",
       "      <td>2023-12-01T00:17:22.270Z</td>\n",
       "      <td>2023-12-01T00:22:04.382Z</td>\n",
       "      <td>0</td>\n",
       "      <td>65692612919324acb6e8773a</td>\n",
       "      <td>2023-12-01T00:22:04.072Z</td>\n",
       "      <td>2023-12-01T00:22:04.325Z</td>\n",
       "      <td>0.004217</td>\n",
       "      <td>NaN</td>\n",
       "      <td>NaN</td>\n",
       "      <td>NaN</td>\n",
       "      <td>NaN</td>\n",
       "      <td>NaN</td>\n",
       "      <td>NaN</td>\n",
       "      <td>NaN</td>\n",
       "      <td>NaN</td>\n",
       "      <td>NaN</td>\n",
       "      <td>NaN</td>\n",
       "      <td>NaN</td>\n",
       "      <td>NaN</td>\n",
       "      <td>NaN</td>\n",
       "      <td>NaN</td>\n",
       "      <td>NaN</td>\n",
       "      <td>NaN</td>\n",
       "      <td>NaN</td>\n",
       "      <td>NaN</td>\n",
       "      <td>NaN</td>\n",
       "      <td>NaN</td>\n",
       "      <td>NaN</td>\n",
       "      <td>NaN</td>\n",
       "      <td>NaN</td>\n",
       "    </tr>\n",
       "    <tr>\n",
       "      <th>3</th>\n",
       "      <td>656927c9919324acb6e87b2f</td>\n",
       "      <td>6568ee9f919324acb6e77e53</td>\n",
       "      <td>incomplete</td>\n",
       "      <td>65054786f5f203225bfcdd0d</td>\n",
       "      <td>Astro  Sanjeev</td>\n",
       "      <td>95</td>\n",
       "      <td>30120</td>\n",
       "      <td>Chat</td>\n",
       "      <td>gurucool</td>\n",
       "      <td>no-refund</td>\n",
       "      <td>False</td>\n",
       "      <td>300.0</td>\n",
       "      <td>False</td>\n",
       "      <td>False</td>\n",
       "      <td>True</td>\n",
       "      <td>2023-12-01T00:24:41.672Z</td>\n",
       "      <td>2023-12-01T00:29:44.022Z</td>\n",
       "      <td>0</td>\n",
       "      <td>656927c9919324acb6e87b31</td>\n",
       "      <td>2023-12-01T00:29:43.556Z</td>\n",
       "      <td>2023-12-01T00:29:43.960Z</td>\n",
       "      <td>0.006733</td>\n",
       "      <td>NaN</td>\n",
       "      <td>NaN</td>\n",
       "      <td>NaN</td>\n",
       "      <td>NaN</td>\n",
       "      <td>NaN</td>\n",
       "      <td>NaN</td>\n",
       "      <td>NaN</td>\n",
       "      <td>NaN</td>\n",
       "      <td>NaN</td>\n",
       "      <td>NaN</td>\n",
       "      <td>NaN</td>\n",
       "      <td>NaN</td>\n",
       "      <td>NaN</td>\n",
       "      <td>NaN</td>\n",
       "      <td>NaN</td>\n",
       "      <td>NaN</td>\n",
       "      <td>NaN</td>\n",
       "      <td>NaN</td>\n",
       "      <td>NaN</td>\n",
       "      <td>NaN</td>\n",
       "      <td>NaN</td>\n",
       "      <td>NaN</td>\n",
       "      <td>NaN</td>\n",
       "    </tr>\n",
       "    <tr>\n",
       "      <th>4</th>\n",
       "      <td>65692d75919324acb6e882dd</td>\n",
       "      <td>65629cfc4232eb704d712d98</td>\n",
       "      <td>failed</td>\n",
       "      <td>65054786f5f203225bfcdd0d</td>\n",
       "      <td>Astro  Sanjeev</td>\n",
       "      <td>95</td>\n",
       "      <td>27790</td>\n",
       "      <td>Chat</td>\n",
       "      <td>gurucool</td>\n",
       "      <td>no-refund</td>\n",
       "      <td>False</td>\n",
       "      <td>300.0</td>\n",
       "      <td>False</td>\n",
       "      <td>False</td>\n",
       "      <td>False</td>\n",
       "      <td>2023-12-01T00:48:53.744Z</td>\n",
       "      <td>2023-12-01T00:50:33.153Z</td>\n",
       "      <td>0</td>\n",
       "      <td>65692d75919324acb6e882df</td>\n",
       "      <td>NaN</td>\n",
       "      <td>NaN</td>\n",
       "      <td>NaN</td>\n",
       "      <td>NaN</td>\n",
       "      <td>NaN</td>\n",
       "      <td>NaN</td>\n",
       "      <td>NaN</td>\n",
       "      <td>NaN</td>\n",
       "      <td>NaN</td>\n",
       "      <td>NaN</td>\n",
       "      <td>NaN</td>\n",
       "      <td>NaN</td>\n",
       "      <td>NaN</td>\n",
       "      <td>NaN</td>\n",
       "      <td>NaN</td>\n",
       "      <td>NaN</td>\n",
       "      <td>NaN</td>\n",
       "      <td>NaN</td>\n",
       "      <td>NaN</td>\n",
       "      <td>NaN</td>\n",
       "      <td>NaN</td>\n",
       "      <td>NaN</td>\n",
       "      <td>NaN</td>\n",
       "      <td>NaN</td>\n",
       "      <td>NaN</td>\n",
       "      <td>NaN</td>\n",
       "    </tr>\n",
       "    <tr>\n",
       "      <th>...</th>\n",
       "      <td>...</td>\n",
       "      <td>...</td>\n",
       "      <td>...</td>\n",
       "      <td>...</td>\n",
       "      <td>...</td>\n",
       "      <td>...</td>\n",
       "      <td>...</td>\n",
       "      <td>...</td>\n",
       "      <td>...</td>\n",
       "      <td>...</td>\n",
       "      <td>...</td>\n",
       "      <td>...</td>\n",
       "      <td>...</td>\n",
       "      <td>...</td>\n",
       "      <td>...</td>\n",
       "      <td>...</td>\n",
       "      <td>...</td>\n",
       "      <td>...</td>\n",
       "      <td>...</td>\n",
       "      <td>...</td>\n",
       "      <td>...</td>\n",
       "      <td>...</td>\n",
       "      <td>...</td>\n",
       "      <td>...</td>\n",
       "      <td>...</td>\n",
       "      <td>...</td>\n",
       "      <td>...</td>\n",
       "      <td>...</td>\n",
       "      <td>...</td>\n",
       "      <td>...</td>\n",
       "      <td>...</td>\n",
       "      <td>...</td>\n",
       "      <td>...</td>\n",
       "      <td>...</td>\n",
       "      <td>...</td>\n",
       "      <td>...</td>\n",
       "      <td>...</td>\n",
       "      <td>...</td>\n",
       "      <td>...</td>\n",
       "      <td>...</td>\n",
       "      <td>...</td>\n",
       "      <td>...</td>\n",
       "      <td>...</td>\n",
       "      <td>...</td>\n",
       "      <td>...</td>\n",
       "    </tr>\n",
       "    <tr>\n",
       "      <th>28022</th>\n",
       "      <td>6595ef62849de2bb564ed9fb</td>\n",
       "      <td>6592ef86270572b0ca26a3e3</td>\n",
       "      <td>completed</td>\n",
       "      <td>6522d40f0562f2f5e506c1c4</td>\n",
       "      <td>Super  Guru Ji</td>\n",
       "      <td>227</td>\n",
       "      <td>43361</td>\n",
       "      <td>Chat</td>\n",
       "      <td>gurucool</td>\n",
       "      <td>no-refund</td>\n",
       "      <td>False</td>\n",
       "      <td>2580.0</td>\n",
       "      <td>False</td>\n",
       "      <td>False</td>\n",
       "      <td>False</td>\n",
       "      <td>2024-01-03T23:36:02.872Z</td>\n",
       "      <td>2024-01-03T23:37:57.348Z</td>\n",
       "      <td>0</td>\n",
       "      <td>6595ef62849de2bb564ed9fd</td>\n",
       "      <td>2024-01-03T23:36:10.118Z</td>\n",
       "      <td>2024-01-03T23:37:57.259Z</td>\n",
       "      <td>1.616667</td>\n",
       "      <td>NaN</td>\n",
       "      <td>NaN</td>\n",
       "      <td>NaN</td>\n",
       "      <td>NaN</td>\n",
       "      <td>14.55</td>\n",
       "      <td>completed</td>\n",
       "      <td>NaN</td>\n",
       "      <td>7.275</td>\n",
       "      <td>14.55</td>\n",
       "      <td>Indian</td>\n",
       "      <td>completed</td>\n",
       "      <td>NaN</td>\n",
       "      <td>NaN</td>\n",
       "      <td>NaN</td>\n",
       "      <td>False</td>\n",
       "      <td>NaN</td>\n",
       "      <td>NaN</td>\n",
       "      <td>normal</td>\n",
       "      <td>NaN</td>\n",
       "      <td>Test</td>\n",
       "      <td>NaN</td>\n",
       "      <td>NaN</td>\n",
       "      <td>user</td>\n",
       "    </tr>\n",
       "    <tr>\n",
       "      <th>28023</th>\n",
       "      <td>6595f1f3849de2bb564edd7e</td>\n",
       "      <td>6592ef86270572b0ca26a3e3</td>\n",
       "      <td>NaN</td>\n",
       "      <td>65054784f5f203225bfcdcd1</td>\n",
       "      <td>Tarot  Rupanshi</td>\n",
       "      <td>74</td>\n",
       "      <td>43361</td>\n",
       "      <td>Call</td>\n",
       "      <td>app</td>\n",
       "      <td>no-refund</td>\n",
       "      <td>False</td>\n",
       "      <td>NaN</td>\n",
       "      <td>False</td>\n",
       "      <td>False</td>\n",
       "      <td>False</td>\n",
       "      <td>2024-01-03T23:46:59.765Z</td>\n",
       "      <td>2024-01-03T23:47:50.319Z</td>\n",
       "      <td>0</td>\n",
       "      <td>6595f1f4849de2bb564edd81</td>\n",
       "      <td>NaN</td>\n",
       "      <td>NaN</td>\n",
       "      <td>0.000000</td>\n",
       "      <td>Normal</td>\n",
       "      <td>Exotel</td>\n",
       "      <td>failed</td>\n",
       "      <td>4e2e7a5e14f13638a84e9b816b1c1814</td>\n",
       "      <td>NaN</td>\n",
       "      <td>failed</td>\n",
       "      <td>0.0</td>\n",
       "      <td>NaN</td>\n",
       "      <td>NaN</td>\n",
       "      <td>NaN</td>\n",
       "      <td>NaN</td>\n",
       "      <td>0.0</td>\n",
       "      <td>NaN</td>\n",
       "      <td>NaN</td>\n",
       "      <td>False</td>\n",
       "      <td>NaN</td>\n",
       "      <td>NaN</td>\n",
       "      <td>normal</td>\n",
       "      <td>NaN</td>\n",
       "      <td>Test</td>\n",
       "      <td>NaN</td>\n",
       "      <td>NaN</td>\n",
       "      <td>NaN</td>\n",
       "    </tr>\n",
       "    <tr>\n",
       "      <th>28024</th>\n",
       "      <td>6595f23d849de2bb564ee1c9</td>\n",
       "      <td>6592ef86270572b0ca26a3e3</td>\n",
       "      <td>NaN</td>\n",
       "      <td>65054786f5f203225bfcdd0d</td>\n",
       "      <td>Astro  Sanjeev</td>\n",
       "      <td>95</td>\n",
       "      <td>43361</td>\n",
       "      <td>Call</td>\n",
       "      <td>app</td>\n",
       "      <td>no-refund</td>\n",
       "      <td>False</td>\n",
       "      <td>NaN</td>\n",
       "      <td>False</td>\n",
       "      <td>False</td>\n",
       "      <td>False</td>\n",
       "      <td>2024-01-03T23:48:13.271Z</td>\n",
       "      <td>2024-01-03T23:48:37.907Z</td>\n",
       "      <td>0</td>\n",
       "      <td>6595f23d849de2bb564ee1cc</td>\n",
       "      <td>NaN</td>\n",
       "      <td>NaN</td>\n",
       "      <td>0.000000</td>\n",
       "      <td>Normal</td>\n",
       "      <td>Exotel</td>\n",
       "      <td>failed</td>\n",
       "      <td>d3daef011bf4a2ec9c23d910aa651814</td>\n",
       "      <td>NaN</td>\n",
       "      <td>completed</td>\n",
       "      <td>9.0</td>\n",
       "      <td>NaN</td>\n",
       "      <td>NaN</td>\n",
       "      <td>NaN</td>\n",
       "      <td>canceled</td>\n",
       "      <td>0.0</td>\n",
       "      <td>NaN</td>\n",
       "      <td>NaN</td>\n",
       "      <td>False</td>\n",
       "      <td>NaN</td>\n",
       "      <td>NaN</td>\n",
       "      <td>normal</td>\n",
       "      <td>NaN</td>\n",
       "      <td>Test</td>\n",
       "      <td>NaN</td>\n",
       "      <td>NaN</td>\n",
       "      <td>NaN</td>\n",
       "    </tr>\n",
       "    <tr>\n",
       "      <th>28025</th>\n",
       "      <td>6595f384883c1bbae79c58e3</td>\n",
       "      <td>6595f36c883c1bbae79c57c9</td>\n",
       "      <td>failed</td>\n",
       "      <td>6522d40f0562f2f5e506c1c4</td>\n",
       "      <td>Super  Guru Ji</td>\n",
       "      <td>227</td>\n",
       "      <td>44005</td>\n",
       "      <td>Chat</td>\n",
       "      <td>gurucool</td>\n",
       "      <td>no-refund</td>\n",
       "      <td>False</td>\n",
       "      <td>300.0</td>\n",
       "      <td>False</td>\n",
       "      <td>False</td>\n",
       "      <td>False</td>\n",
       "      <td>2024-01-03T23:53:40.997Z</td>\n",
       "      <td>2024-01-03T23:54:16.451Z</td>\n",
       "      <td>0</td>\n",
       "      <td>6595f385883c1bbae79c58e5</td>\n",
       "      <td>NaN</td>\n",
       "      <td>NaN</td>\n",
       "      <td>NaN</td>\n",
       "      <td>NaN</td>\n",
       "      <td>NaN</td>\n",
       "      <td>NaN</td>\n",
       "      <td>NaN</td>\n",
       "      <td>NaN</td>\n",
       "      <td>no-answer</td>\n",
       "      <td>NaN</td>\n",
       "      <td>NaN</td>\n",
       "      <td>NaN</td>\n",
       "      <td>NaN</td>\n",
       "      <td>NaN</td>\n",
       "      <td>NaN</td>\n",
       "      <td>NaN</td>\n",
       "      <td>NaN</td>\n",
       "      <td>False</td>\n",
       "      <td>NaN</td>\n",
       "      <td>NaN</td>\n",
       "      <td>first</td>\n",
       "      <td>NaN</td>\n",
       "      <td>Production</td>\n",
       "      <td>NaN</td>\n",
       "      <td>NaN</td>\n",
       "      <td>NaN</td>\n",
       "    </tr>\n",
       "    <tr>\n",
       "      <th>28026</th>\n",
       "      <td>6595f407883c1bbae79c6e11</td>\n",
       "      <td>6595f36c883c1bbae79c57c9</td>\n",
       "      <td>incomplete</td>\n",
       "      <td>6522d40f0562f2f5e506c1c4</td>\n",
       "      <td>Super  Guru Ji</td>\n",
       "      <td>227</td>\n",
       "      <td>44005</td>\n",
       "      <td>Chat</td>\n",
       "      <td>gurucool</td>\n",
       "      <td>no-refund</td>\n",
       "      <td>False</td>\n",
       "      <td>300.0</td>\n",
       "      <td>False</td>\n",
       "      <td>False</td>\n",
       "      <td>False</td>\n",
       "      <td>2024-01-03T23:55:51.547Z</td>\n",
       "      <td>2024-01-03T23:57:12.479Z</td>\n",
       "      <td>0</td>\n",
       "      <td>6595f407883c1bbae79c6e13</td>\n",
       "      <td>2024-01-03T23:57:11.947Z</td>\n",
       "      <td>2024-01-03T23:57:12.445Z</td>\n",
       "      <td>0.000000</td>\n",
       "      <td>NaN</td>\n",
       "      <td>NaN</td>\n",
       "      <td>NaN</td>\n",
       "      <td>NaN</td>\n",
       "      <td>NaN</td>\n",
       "      <td>NaN</td>\n",
       "      <td>NaN</td>\n",
       "      <td>NaN</td>\n",
       "      <td>NaN</td>\n",
       "      <td>NaN</td>\n",
       "      <td>NaN</td>\n",
       "      <td>NaN</td>\n",
       "      <td>NaN</td>\n",
       "      <td>NaN</td>\n",
       "      <td>False</td>\n",
       "      <td>NaN</td>\n",
       "      <td>NaN</td>\n",
       "      <td>first</td>\n",
       "      <td>NaN</td>\n",
       "      <td>Production</td>\n",
       "      <td>NaN</td>\n",
       "      <td>NaN</td>\n",
       "      <td>NaN</td>\n",
       "    </tr>\n",
       "  </tbody>\n",
       "</table>\n",
       "<p>28027 rows × 45 columns</p>\n",
       "</div>"
      ],
      "text/plain": [
       "                            _id                      user  chatStatus  \\\n",
       "0      656922f2919324acb6e87139  65691b0c919324acb6e7e046  incomplete   \n",
       "1      65692413919324acb6e87441  65691b0c919324acb6e7e046  incomplete   \n",
       "2      65692612919324acb6e87738  656528dcee2b1ab52f019119  incomplete   \n",
       "3      656927c9919324acb6e87b2f  6568ee9f919324acb6e77e53  incomplete   \n",
       "4      65692d75919324acb6e882dd  65629cfc4232eb704d712d98      failed   \n",
       "...                         ...                       ...         ...   \n",
       "28022  6595ef62849de2bb564ed9fb  6592ef86270572b0ca26a3e3   completed   \n",
       "28023  6595f1f3849de2bb564edd7e  6592ef86270572b0ca26a3e3         NaN   \n",
       "28024  6595f23d849de2bb564ee1c9  6592ef86270572b0ca26a3e3         NaN   \n",
       "28025  6595f384883c1bbae79c58e3  6595f36c883c1bbae79c57c9      failed   \n",
       "28026  6595f407883c1bbae79c6e11  6595f36c883c1bbae79c57c9  incomplete   \n",
       "\n",
       "                           guru          guruName  gid    uid  \\\n",
       "0      65054786f5f203225bfcdd0d    Astro  Sanjeev   95  30129   \n",
       "1      65054786f5f203225bfcdd0d    Astro  Sanjeev   95  30129   \n",
       "2      65054786f5f203225bfcdd0d    Astro  Sanjeev   95  28743   \n",
       "3      65054786f5f203225bfcdd0d    Astro  Sanjeev   95  30120   \n",
       "4      65054786f5f203225bfcdd0d    Astro  Sanjeev   95  27790   \n",
       "...                         ...               ...  ...    ...   \n",
       "28022  6522d40f0562f2f5e506c1c4    Super  Guru Ji  227  43361   \n",
       "28023  65054784f5f203225bfcdcd1  Tarot  Rupanshi    74  43361   \n",
       "28024  65054786f5f203225bfcdd0d    Astro  Sanjeev   95  43361   \n",
       "28025  6522d40f0562f2f5e506c1c4    Super  Guru Ji  227  44005   \n",
       "28026  6522d40f0562f2f5e506c1c4    Super  Guru Ji  227  44005   \n",
       "\n",
       "      consultationType   website refundStatus  isWhiteListUser  chatSeconds  \\\n",
       "0                 Chat  gurucool    no-refund            False        300.0   \n",
       "1                 Chat  gurucool    no-refund            False        300.0   \n",
       "2                 Chat  gurucool    no-refund            False        300.0   \n",
       "3                 Chat  gurucool    no-refund            False        300.0   \n",
       "4                 Chat  gurucool    no-refund            False        300.0   \n",
       "...                ...       ...          ...              ...          ...   \n",
       "28022             Chat  gurucool    no-refund            False       2580.0   \n",
       "28023             Call       app    no-refund            False          NaN   \n",
       "28024             Call       app    no-refund            False          NaN   \n",
       "28025             Chat  gurucool    no-refund            False        300.0   \n",
       "28026             Chat  gurucool    no-refund            False        300.0   \n",
       "\n",
       "       queue  freeCall  freeChat                 createdAt  \\\n",
       "0      False     False      True  2023-12-01T00:04:02.993Z   \n",
       "1      False     False      True  2023-12-01T00:08:51.903Z   \n",
       "2      False     False      True  2023-12-01T00:17:22.270Z   \n",
       "3      False     False      True  2023-12-01T00:24:41.672Z   \n",
       "4      False     False     False  2023-12-01T00:48:53.744Z   \n",
       "...      ...       ...       ...                       ...   \n",
       "28022  False     False     False  2024-01-03T23:36:02.872Z   \n",
       "28023  False     False     False  2024-01-03T23:46:59.765Z   \n",
       "28024  False     False     False  2024-01-03T23:48:13.271Z   \n",
       "28025  False     False     False  2024-01-03T23:53:40.997Z   \n",
       "28026  False     False     False  2024-01-03T23:55:51.547Z   \n",
       "\n",
       "                      updatedAt  __v          statementEntryId  \\\n",
       "0      2023-12-01T00:07:33.833Z    0  656922f3919324acb6e8713b   \n",
       "1      2023-12-01T00:09:56.111Z    0  65692413919324acb6e87443   \n",
       "2      2023-12-01T00:22:04.382Z    0  65692612919324acb6e8773a   \n",
       "3      2023-12-01T00:29:44.022Z    0  656927c9919324acb6e87b31   \n",
       "4      2023-12-01T00:50:33.153Z    0  65692d75919324acb6e882df   \n",
       "...                         ...  ...                       ...   \n",
       "28022  2024-01-03T23:37:57.348Z    0  6595ef62849de2bb564ed9fd   \n",
       "28023  2024-01-03T23:47:50.319Z    0  6595f1f4849de2bb564edd81   \n",
       "28024  2024-01-03T23:48:37.907Z    0  6595f23d849de2bb564ee1cc   \n",
       "28025  2024-01-03T23:54:16.451Z    0  6595f385883c1bbae79c58e5   \n",
       "28026  2024-01-03T23:57:12.479Z    0  6595f407883c1bbae79c6e13   \n",
       "\n",
       "                  chatStartTime               chatEndTime  timeDuration  \\\n",
       "0      2023-12-01T00:07:33.248Z  2023-12-01T00:07:33.773Z      0.008750   \n",
       "1      2023-12-01T00:09:55.808Z  2023-12-01T00:09:56.052Z      0.004067   \n",
       "2      2023-12-01T00:22:04.072Z  2023-12-01T00:22:04.325Z      0.004217   \n",
       "3      2023-12-01T00:29:43.556Z  2023-12-01T00:29:43.960Z      0.006733   \n",
       "4                           NaN                       NaN           NaN   \n",
       "...                         ...                       ...           ...   \n",
       "28022  2024-01-03T23:36:10.118Z  2024-01-03T23:37:57.259Z      1.616667   \n",
       "28023                       NaN                       NaN      0.000000   \n",
       "28024                       NaN                       NaN      0.000000   \n",
       "28025                       NaN                       NaN           NaN   \n",
       "28026  2024-01-03T23:57:11.947Z  2024-01-03T23:57:12.445Z      0.000000   \n",
       "\n",
       "      callChannel callIvrType callStatus                           CallSid  \\\n",
       "0             NaN         NaN        NaN                               NaN   \n",
       "1             NaN         NaN        NaN                               NaN   \n",
       "2             NaN         NaN        NaN                               NaN   \n",
       "3             NaN         NaN        NaN                               NaN   \n",
       "4             NaN         NaN        NaN                               NaN   \n",
       "...           ...         ...        ...                               ...   \n",
       "28022         NaN         NaN        NaN                               NaN   \n",
       "28023      Normal      Exotel     failed  4e2e7a5e14f13638a84e9b816b1c1814   \n",
       "28024      Normal      Exotel     failed  d3daef011bf4a2ec9c23d910aa651814   \n",
       "28025         NaN         NaN        NaN                               NaN   \n",
       "28026         NaN         NaN        NaN                               NaN   \n",
       "\n",
       "       amount astrologerCallStatus  astrologerOnCallDuration  \\\n",
       "0         NaN                  NaN                       NaN   \n",
       "1         NaN                  NaN                       NaN   \n",
       "2         NaN                  NaN                       NaN   \n",
       "3         NaN                  NaN                       NaN   \n",
       "4         NaN                  NaN                       NaN   \n",
       "...       ...                  ...                       ...   \n",
       "28022   14.55            completed                       NaN   \n",
       "28023     NaN               failed                       0.0   \n",
       "28024     NaN            completed                       9.0   \n",
       "28025     NaN            no-answer                       NaN   \n",
       "28026     NaN                  NaN                       NaN   \n",
       "\n",
       "       astrologersEarnings  netAmount  region userCallStatus  \\\n",
       "0                      NaN        NaN     NaN            NaN   \n",
       "1                      NaN        NaN     NaN            NaN   \n",
       "2                      NaN        NaN     NaN            NaN   \n",
       "3                      NaN        NaN     NaN            NaN   \n",
       "4                      NaN        NaN     NaN            NaN   \n",
       "...                    ...        ...     ...            ...   \n",
       "28022                7.275      14.55  Indian      completed   \n",
       "28023                  NaN        NaN     NaN            NaN   \n",
       "28024                  NaN        NaN     NaN       canceled   \n",
       "28025                  NaN        NaN     NaN            NaN   \n",
       "28026                  NaN        NaN     NaN            NaN   \n",
       "\n",
       "       userOnCallDuration RecordingUrl feedback hideHistory cardPosition  \\\n",
       "0                     NaN          NaN      NaN         NaN          NaN   \n",
       "1                     NaN          NaN      NaN         NaN          NaN   \n",
       "2                     NaN          NaN      NaN         NaN          NaN   \n",
       "3                     NaN          NaN      NaN         NaN          NaN   \n",
       "4                     NaN          NaN      NaN         NaN          NaN   \n",
       "...                   ...          ...      ...         ...          ...   \n",
       "28022                 NaN          NaN      NaN       False          NaN   \n",
       "28023                 0.0          NaN      NaN       False          NaN   \n",
       "28024                 0.0          NaN      NaN       False          NaN   \n",
       "28025                 NaN          NaN      NaN       False          NaN   \n",
       "28026                 NaN          NaN      NaN       False          NaN   \n",
       "\n",
       "      Remedies   offer refunds[0]      source  callSeconds  \\\n",
       "0          NaN     NaN        NaN         NaN          NaN   \n",
       "1          NaN     NaN        NaN         NaN          NaN   \n",
       "2          NaN     NaN        NaN         NaN          NaN   \n",
       "3          NaN     NaN        NaN         NaN          NaN   \n",
       "4          NaN     NaN        NaN         NaN          NaN   \n",
       "...        ...     ...        ...         ...          ...   \n",
       "28022      NaN  normal        NaN        Test          NaN   \n",
       "28023      NaN  normal        NaN        Test          NaN   \n",
       "28024      NaN  normal        NaN        Test          NaN   \n",
       "28025      NaN   first        NaN  Production          NaN   \n",
       "28026      NaN   first        NaN  Production          NaN   \n",
       "\n",
       "      complementaryCallOrganiser disconnectedBy  \n",
       "0                            NaN            NaN  \n",
       "1                            NaN            NaN  \n",
       "2                            NaN            NaN  \n",
       "3                            NaN            NaN  \n",
       "4                            NaN            NaN  \n",
       "...                          ...            ...  \n",
       "28022                        NaN           user  \n",
       "28023                        NaN            NaN  \n",
       "28024                        NaN            NaN  \n",
       "28025                        NaN            NaN  \n",
       "28026                        NaN            NaN  \n",
       "\n",
       "[28027 rows x 45 columns]"
      ]
     },
     "execution_count": 2,
     "metadata": {},
     "output_type": "execute_result"
    }
   ],
   "source": [
    "call_df=pd.read_csv(r\"C:\\Users\\hp\\OneDrive\\Desktop\\scaler assignment\\1Dec to 3Jan Consultations.csv\")\n",
    "pd.set_option('display.max_columns', None)\n",
    "call_df"
   ]
  },
  {
   "cell_type": "code",
   "execution_count": 3,
   "id": "a0a079f7",
   "metadata": {},
   "outputs": [
    {
     "data": {
      "text/plain": [
       "Index(['_id', 'user', 'chatStatus', 'guru', 'guruName', 'gid', 'uid',\n",
       "       'consultationType', 'website', 'refundStatus', 'isWhiteListUser',\n",
       "       'chatSeconds', 'queue', 'freeCall', 'freeChat', 'createdAt',\n",
       "       'updatedAt', '__v', 'statementEntryId', 'chatStartTime', 'chatEndTime',\n",
       "       'timeDuration', 'callChannel', 'callIvrType', 'callStatus', 'CallSid',\n",
       "       'amount', 'astrologerCallStatus', 'astrologerOnCallDuration',\n",
       "       'astrologersEarnings', 'netAmount', 'region', 'userCallStatus',\n",
       "       'userOnCallDuration', 'RecordingUrl', 'feedback', 'hideHistory',\n",
       "       'cardPosition', 'Remedies', 'offer', 'refunds[0]', 'source',\n",
       "       'callSeconds', 'complementaryCallOrganiser', 'disconnectedBy'],\n",
       "      dtype='object')"
      ]
     },
     "execution_count": 3,
     "metadata": {},
     "output_type": "execute_result"
    }
   ],
   "source": [
    "call_df.columns"
   ]
  },
  {
   "cell_type": "code",
   "execution_count": 4,
   "id": "9deb62ea",
   "metadata": {},
   "outputs": [
    {
     "name": "stdout",
     "output_type": "stream",
     "text": [
      "<class 'pandas.core.frame.DataFrame'>\n",
      "RangeIndex: 28027 entries, 0 to 28026\n",
      "Data columns (total 45 columns):\n",
      " #   Column                      Non-Null Count  Dtype  \n",
      "---  ------                      --------------  -----  \n",
      " 0   _id                         28027 non-null  object \n",
      " 1   user                        28027 non-null  object \n",
      " 2   chatStatus                  19515 non-null  object \n",
      " 3   guru                        28027 non-null  object \n",
      " 4   guruName                    28027 non-null  object \n",
      " 5   gid                         28027 non-null  int64  \n",
      " 6   uid                         28027 non-null  int64  \n",
      " 7   consultationType            28027 non-null  object \n",
      " 8   website                     28027 non-null  object \n",
      " 9   refundStatus                28027 non-null  object \n",
      " 10  isWhiteListUser             28027 non-null  bool   \n",
      " 11  chatSeconds                 19514 non-null  float64\n",
      " 12  queue                       28027 non-null  bool   \n",
      " 13  freeCall                    28027 non-null  bool   \n",
      " 14  freeChat                    28027 non-null  bool   \n",
      " 15  createdAt                   28027 non-null  object \n",
      " 16  updatedAt                   28027 non-null  object \n",
      " 17  __v                         28027 non-null  int64  \n",
      " 18  statementEntryId            27876 non-null  object \n",
      " 19  chatStartTime               9330 non-null   object \n",
      " 20  chatEndTime                 13031 non-null  object \n",
      " 21  timeDuration                21398 non-null  float64\n",
      " 22  callChannel                 8508 non-null   object \n",
      " 23  callIvrType                 8362 non-null   object \n",
      " 24  callStatus                  8541 non-null   object \n",
      " 25  CallSid                     8365 non-null   object \n",
      " 26  amount                      9016 non-null   float64\n",
      " 27  astrologerCallStatus        16258 non-null  object \n",
      " 28  astrologerOnCallDuration    8365 non-null   float64\n",
      " 29  astrologersEarnings         9016 non-null   float64\n",
      " 30  netAmount                   9016 non-null   float64\n",
      " 31  region                      9019 non-null   object \n",
      " 32  userCallStatus              9345 non-null   object \n",
      " 33  userOnCallDuration          8365 non-null   float64\n",
      " 34  RecordingUrl                4325 non-null   object \n",
      " 35  feedback                    2616 non-null   object \n",
      " 36  hideHistory                 19338 non-null  object \n",
      " 37  cardPosition                710 non-null    object \n",
      " 38  Remedies                    102 non-null    object \n",
      " 39  offer                       18778 non-null  object \n",
      " 40  refunds[0]                  5 non-null      object \n",
      " 41  source                      16291 non-null  object \n",
      " 42  callSeconds                 2 non-null      float64\n",
      " 43  complementaryCallOrganiser  2 non-null      object \n",
      " 44  disconnectedBy              9 non-null      object \n",
      "dtypes: bool(4), float64(8), int64(3), object(30)\n",
      "memory usage: 8.9+ MB\n"
     ]
    }
   ],
   "source": [
    "call_df.info()"
   ]
  },
  {
   "cell_type": "code",
   "execution_count": 5,
   "id": "552fd9d2",
   "metadata": {},
   "outputs": [
    {
     "data": {
      "text/plain": [
       "_id                           False\n",
       "user                          False\n",
       "chatStatus                    False\n",
       "guru                          False\n",
       "guruName                      False\n",
       "gid                           False\n",
       "uid                           False\n",
       "consultationType              False\n",
       "website                       False\n",
       "refundStatus                  False\n",
       "isWhiteListUser               False\n",
       "chatSeconds                   False\n",
       "queue                          True\n",
       "freeCall                      False\n",
       "freeChat                      False\n",
       "createdAt                     False\n",
       "updatedAt                     False\n",
       "__v                           False\n",
       "statementEntryId              False\n",
       "chatStartTime                 False\n",
       "chatEndTime                   False\n",
       "timeDuration                  False\n",
       "callChannel                   False\n",
       "callIvrType                   False\n",
       "callStatus                    False\n",
       "CallSid                       False\n",
       "amount                        False\n",
       "astrologerCallStatus          False\n",
       "astrologerOnCallDuration      False\n",
       "astrologersEarnings           False\n",
       "netAmount                     False\n",
       "region                        False\n",
       "userCallStatus                False\n",
       "userOnCallDuration            False\n",
       "RecordingUrl                  False\n",
       "feedback                      False\n",
       "hideHistory                   False\n",
       "cardPosition                  False\n",
       "Remedies                      False\n",
       "offer                         False\n",
       "refunds[0]                    False\n",
       "source                        False\n",
       "callSeconds                   False\n",
       "complementaryCallOrganiser    False\n",
       "disconnectedBy                False\n",
       "dtype: bool"
      ]
     },
     "execution_count": 5,
     "metadata": {},
     "output_type": "execute_result"
    }
   ],
   "source": [
    "call_df.T.duplicated()"
   ]
  },
  {
   "cell_type": "code",
   "execution_count": 6,
   "id": "bba90d84",
   "metadata": {},
   "outputs": [
    {
     "data": {
      "text/plain": [
       "(28027, 45)"
      ]
     },
     "execution_count": 6,
     "metadata": {},
     "output_type": "execute_result"
    }
   ],
   "source": [
    "call_df.shape"
   ]
  },
  {
   "cell_type": "code",
   "execution_count": 7,
   "id": "282c6980",
   "metadata": {},
   "outputs": [],
   "source": [
    "call_df['chatStartTime'] = pd.to_datetime(call_df['chatStartTime'])\n",
    "call_df['chatEndTime'] = pd.to_datetime(call_df['chatEndTime'])\n",
    "call_df['createdAt'] = pd.to_datetime(call_df['createdAt'])\n",
    "call_df['updatedAt'] = pd.to_datetime(call_df['updatedAt'])"
   ]
  },
  {
   "cell_type": "code",
   "execution_count": 8,
   "id": "3ec8d396",
   "metadata": {},
   "outputs": [
    {
     "data": {
      "text/plain": [
       "(Timestamp('2023-12-01 00:04:02.993000+0000', tz='UTC'),\n",
       " Timestamp('2024-01-03 23:57:12.479000+0000', tz='UTC'))"
      ]
     },
     "execution_count": 8,
     "metadata": {},
     "output_type": "execute_result"
    }
   ],
   "source": [
    "call_df['createdAt'].min(),call_df['updatedAt'].max()"
   ]
  },
  {
   "cell_type": "code",
   "execution_count": 9,
   "id": "bd7888ce",
   "metadata": {},
   "outputs": [
    {
     "data": {
      "text/plain": [
       "Normal    8508\n",
       "Name: callChannel, dtype: int64"
      ]
     },
     "execution_count": 9,
     "metadata": {},
     "output_type": "execute_result"
    }
   ],
   "source": [
    "call_df['callChannel'].value_counts()"
   ]
  },
  {
   "cell_type": "code",
   "execution_count": 10,
   "id": "13bae89f",
   "metadata": {},
   "outputs": [
    {
     "data": {
      "text/plain": [
       "gurucool     20225\n",
       "app           7800\n",
       "dashboard        2\n",
       "Name: website, dtype: int64"
      ]
     },
     "execution_count": 10,
     "metadata": {},
     "output_type": "execute_result"
    }
   ],
   "source": [
    "call_df['website'].value_counts()"
   ]
  },
  {
   "cell_type": "code",
   "execution_count": 11,
   "id": "39b1a41c",
   "metadata": {},
   "outputs": [
    {
     "data": {
      "text/plain": [
       "Exotel    8362\n",
       "Name: callIvrType, dtype: int64"
      ]
     },
     "execution_count": 11,
     "metadata": {},
     "output_type": "execute_result"
    }
   ],
   "source": [
    "call_df['callIvrType'].value_counts()"
   ]
  },
  {
   "cell_type": "code",
   "execution_count": 12,
   "id": "ef245e10",
   "metadata": {},
   "outputs": [
    {
     "data": {
      "text/plain": [
       "completed     0.404285\n",
       "no-answer     0.202435\n",
       "busy          0.148695\n",
       "failed        0.142138\n",
       "incomplete    0.102447\n",
       "Name: callStatus, dtype: float64"
      ]
     },
     "execution_count": 12,
     "metadata": {},
     "output_type": "execute_result"
    }
   ],
   "source": [
    "call_df['callStatus'].value_counts()/call_df['callStatus'].count()"
   ]
  },
  {
   "cell_type": "code",
   "execution_count": 13,
   "id": "073b35c0",
   "metadata": {},
   "outputs": [
    {
     "data": {
      "text/plain": [
       "Chat                0.696257\n",
       "Call                0.303564\n",
       "public_live_Call    0.000107\n",
       "Complementary       0.000071\n",
       "Name: consultationType, dtype: float64"
      ]
     },
     "execution_count": 13,
     "metadata": {},
     "output_type": "execute_result"
    }
   ],
   "source": [
    "call_df['consultationType'].value_counts()/call_df['consultationType'].count()"
   ]
  },
  {
   "cell_type": "code",
   "execution_count": 14,
   "id": "9e0780f8",
   "metadata": {},
   "outputs": [
    {
     "data": {
      "text/plain": [
       "failed        0.371817\n",
       "incomplete    0.340302\n",
       "completed     0.283628\n",
       "pending       0.002460\n",
       "started       0.001793\n",
       "Name: chatStatus, dtype: float64"
      ]
     },
     "execution_count": 14,
     "metadata": {},
     "output_type": "execute_result"
    }
   ],
   "source": [
    "call_df['chatStatus'].value_counts()/call_df['chatStatus'].count()"
   ]
  },
  {
   "cell_type": "code",
   "execution_count": 15,
   "id": "74719d22",
   "metadata": {},
   "outputs": [
    {
     "data": {
      "text/plain": [
       "array([ 300.,   nan,  420.,  360.,  600.,  660.,  480.,  540., 3840.,\n",
       "       7980., 7920.,  720., 1140., 1440., 1500.,  900., 3180., 3120.,\n",
       "       2580., 1080., 2880., 3540., 1020., 1260., 1380., 2400., 1680.,\n",
       "       1200.,  960.,  780., 2940., 1560.,  840., 1620., 1320., 2700.,\n",
       "       4080., 3300., 1920., 1860., 1740., 3660., 1980., 1800., 2040.,\n",
       "       2220., 2280., 4500., 4380., 2460., 7740., 7500., 3900., 6660.,\n",
       "       3000.])"
      ]
     },
     "execution_count": 15,
     "metadata": {},
     "output_type": "execute_result"
    }
   ],
   "source": [
    "call_df['chatSeconds'].unique()"
   ]
  },
  {
   "cell_type": "code",
   "execution_count": 16,
   "id": "71002700",
   "metadata": {},
   "outputs": [
    {
     "data": {
      "text/plain": [
       "<Axes: xlabel='chatSeconds', ylabel='Density'>"
      ]
     },
     "execution_count": 16,
     "metadata": {},
     "output_type": "execute_result"
    },
    {
     "data": {
      "image/png": "[encoded data removed]",
      "text/plain": [
       "<Figure size 640x480 with 1 Axes>"
      ]
     },
     "metadata": {},
     "output_type": "display_data"
    }
   ],
   "source": [
    "sn.distplot(call_df['chatSeconds'])"
   ]
  },
  {
   "cell_type": "code",
   "execution_count": 17,
   "id": "6446b842",
   "metadata": {},
   "outputs": [
    {
     "data": {
      "text/plain": [
       "131"
      ]
     },
     "execution_count": 17,
     "metadata": {},
     "output_type": "execute_result"
    }
   ],
   "source": [
    "# number of gurus\n",
    "call_df['gid'].nunique()"
   ]
  },
  {
   "cell_type": "code",
   "execution_count": 18,
   "id": "81c7c7ef",
   "metadata": {},
   "outputs": [
    {
     "name": "stdout",
     "output_type": "stream",
     "text": [
      "Astro Krishaa      1580\n",
      "Astro  Sakthi      1450\n",
      "Astro Shalini      1321\n",
      "Astro  Brejesh     1070\n",
      "Astro Divya        1056\n",
      "Tarot  Gurpreet    1000\n",
      "Astro  Ruchi        777\n",
      "Astro Sonam S       752\n",
      "Tarot Bee Riya      743\n",
      "Astro  Yogendra     735\n",
      "Name: guruName, dtype: int64\n"
     ]
    }
   ],
   "source": [
    "# top ten gurus based on number of consultation\n",
    "top_ten_gurus = call_df['guruName'].value_counts().head(10)\n",
    "print(top_ten_gurus)"
   ]
  },
  {
   "cell_type": "code",
   "execution_count": 19,
   "id": "01c1a644",
   "metadata": {},
   "outputs": [
    {
     "name": "stdout",
     "output_type": "stream",
     "text": [
      "Tarot  Ankita           4\n",
      "Tarot  Preet            3\n",
      "Astro  Yashi            3\n",
      "Astro  Pujaa Rai        2\n",
      "Astro Rohan  S          2\n",
      "Astro  Niddhi Guptaa    2\n",
      "Tarot  Anshu            2\n",
      "Tarot  Mystical         2\n",
      " Dr.  Pratibha          2\n",
      "Tarot Rittika           1\n",
      "Name: guruName, dtype: int64\n"
     ]
    }
   ],
   "source": [
    "# ten gurus with least number of consultation\n",
    "last_ten_gurus = call_df['guruName'].value_counts().tail(10)\n",
    "print(last_ten_gurus)"
   ]
  },
  {
   "cell_type": "code",
   "execution_count": 20,
   "id": "79e9875b",
   "metadata": {},
   "outputs": [
    {
     "data": {
      "text/plain": [
       "array([nan, 'Indian'], dtype=object)"
      ]
     },
     "execution_count": 20,
     "metadata": {},
     "output_type": "execute_result"
    }
   ],
   "source": [
    "call_df['region'].unique()"
   ]
  },
  {
   "cell_type": "code",
   "execution_count": 21,
   "id": "05d65642",
   "metadata": {},
   "outputs": [
    {
     "data": {
      "text/plain": [
       "array([nan, 'completed', 'busy', 'no-answer', 'canceled', 'failed'],\n",
       "      dtype=object)"
      ]
     },
     "execution_count": 21,
     "metadata": {},
     "output_type": "execute_result"
    }
   ],
   "source": [
    "call_df['userCallStatus'].unique()"
   ]
  },
  {
   "cell_type": "code",
   "execution_count": 22,
   "id": "77fdebda",
   "metadata": {},
   "outputs": [
    {
     "data": {
      "text/plain": [
       "array([nan, 'completed', 'failed', 'busy', 'no-answer'], dtype=object)"
      ]
     },
     "execution_count": 22,
     "metadata": {},
     "output_type": "execute_result"
    }
   ],
   "source": [
    "call_df['astrologerCallStatus'].unique()"
   ]
  },
  {
   "cell_type": "code",
   "execution_count": 23,
   "id": "c589bfc3",
   "metadata": {},
   "outputs": [
    {
     "data": {
      "text/plain": [
       "array([nan, 'Production', 'Test'], dtype=object)"
      ]
     },
     "execution_count": 23,
     "metadata": {},
     "output_type": "execute_result"
    }
   ],
   "source": [
    "call_df['source'].unique()"
   ]
  },
  {
   "cell_type": "code",
   "execution_count": 24,
   "id": "613ea0a4",
   "metadata": {},
   "outputs": [
    {
     "data": {
      "text/plain": [
       "array([nan, 'first', 'normal', 'fifth', 'second', 'third', 'fourth'],\n",
       "      dtype=object)"
      ]
     },
     "execution_count": 24,
     "metadata": {},
     "output_type": "execute_result"
    }
   ],
   "source": [
    "call_df['offer'].unique()"
   ]
  },
  {
   "cell_type": "code",
   "execution_count": 25,
   "id": "27d694ab",
   "metadata": {},
   "outputs": [
    {
     "data": {
      "text/plain": [
       "first     15887\n",
       "normal     2237\n",
       "second      310\n",
       "fifth       234\n",
       "third        91\n",
       "fourth       19\n",
       "Name: offer, dtype: int64"
      ]
     },
     "execution_count": 25,
     "metadata": {},
     "output_type": "execute_result"
    }
   ],
   "source": [
    "call_df['offer'].value_counts()"
   ]
  },
  {
   "cell_type": "code",
   "execution_count": 26,
   "id": "8fb0b117",
   "metadata": {},
   "outputs": [
    {
     "data": {
      "text/plain": [
       "array([nan, '657a8a253a300f1f76ba8414', '657aea44251875bfc6dd0286',\n",
       "       '658c4460883c1bbae77fc1fd', '658eeb42883c1bbae7e99865',\n",
       "       '65946693883c1bbae7804275'], dtype=object)"
      ]
     },
     "execution_count": 26,
     "metadata": {},
     "output_type": "execute_result"
    }
   ],
   "source": [
    "call_df['refunds[0]'].unique()"
   ]
  },
  {
   "cell_type": "code",
   "execution_count": 27,
   "id": "c3138077",
   "metadata": {},
   "outputs": [
    {
     "data": {
      "text/plain": [
       "array([nan, False, True], dtype=object)"
      ]
     },
     "execution_count": 27,
     "metadata": {},
     "output_type": "execute_result"
    }
   ],
   "source": [
    "call_df['hideHistory'].unique()"
   ]
  },
  {
   "cell_type": "code",
   "execution_count": 28,
   "id": "f39911b7",
   "metadata": {},
   "outputs": [
    {
     "data": {
      "text/plain": [
       "False    0.991571\n",
       "True     0.008429\n",
       "Name: hideHistory, dtype: float64"
      ]
     },
     "execution_count": 28,
     "metadata": {},
     "output_type": "execute_result"
    }
   ],
   "source": [
    "call_df['hideHistory'].value_counts()/call_df['hideHistory'].count()"
   ]
  },
  {
   "cell_type": "code",
   "execution_count": 29,
   "id": "a9ea3bbd",
   "metadata": {},
   "outputs": [
    {
     "data": {
      "text/plain": [
       "array([nan, 'astro_system', 'user', 'user_system', 'astrologer'],\n",
       "      dtype=object)"
      ]
     },
     "execution_count": 29,
     "metadata": {},
     "output_type": "execute_result"
    }
   ],
   "source": [
    "call_df['disconnectedBy'].unique()"
   ]
  },
  {
   "cell_type": "code",
   "execution_count": 30,
   "id": "324cdc55",
   "metadata": {},
   "outputs": [
    {
     "data": {
      "text/plain": [
       "2616"
      ]
     },
     "execution_count": 30,
     "metadata": {},
     "output_type": "execute_result"
    }
   ],
   "source": [
    "call_df['feedback'].nunique()"
   ]
  },
  {
   "cell_type": "code",
   "execution_count": 31,
   "id": "15aa6981",
   "metadata": {},
   "outputs": [],
   "source": [
    " #call_df['astrologerOnCallDuration'].unique()"
   ]
  },
  {
   "cell_type": "code",
   "execution_count": 32,
   "id": "305b7038",
   "metadata": {},
   "outputs": [],
   "source": [
    "#call_df['userOnCallDuration'].unique()"
   ]
  },
  {
   "cell_type": "code",
   "execution_count": 33,
   "id": "c2dbb3c1",
   "metadata": {},
   "outputs": [],
   "source": [
    "#this indicate data in seconds so can convert\n",
    "call_df['astrologerOnCallDuration']=call_df['astrologerOnCallDuration']/60\n",
    "call_df['userOnCallDuration']=call_df['userOnCallDuration']/60"
   ]
  },
  {
   "cell_type": "code",
   "execution_count": 34,
   "id": "b14cb66a",
   "metadata": {},
   "outputs": [
    {
     "data": {
      "image/png": "[encoded data removed]",
      "text/plain": [
       "<Figure size 640x480 with 1 Axes>"
      ]
     },
     "metadata": {},
     "output_type": "display_data"
    }
   ],
   "source": [
    "sn.distplot(call_df['astrologerOnCallDuration'].unique(),color=\"lightcoral\",kde=True)\n",
    "plt.title('astrologer Call duration Distribution',{'font':'serif', 'size':10,'weight':'bold'})\n",
    "plt.xlabel('AstrologerOnCallDuration (in min)')\n",
    "plt.show()"
   ]
  },
  {
   "cell_type": "code",
   "execution_count": 35,
   "id": "075ea1e0",
   "metadata": {},
   "outputs": [
    {
     "data": {
      "image/png": "[encoded data removed]",
      "text/plain": [
       "<Figure size 640x480 with 1 Axes>"
      ]
     },
     "metadata": {},
     "output_type": "display_data"
    }
   ],
   "source": [
    "sn.histplot(call_df['userOnCallDuration'].unique())\n",
    "plt.title('User Call duration Distribution',{'font':'serif', 'size':10,'weight':'bold'})\n",
    "plt.xlabel('userOnCallDuration (in min)')\n",
    "plt.show()"
   ]
  },
  {
   "cell_type": "code",
   "execution_count": 36,
   "id": "d2e7a543",
   "metadata": {},
   "outputs": [
    {
     "data": {
      "text/plain": [
       "<Axes: xlabel='amount'>"
      ]
     },
     "execution_count": 36,
     "metadata": {},
     "output_type": "execute_result"
    },
    {
     "data": {
      "image/png": "[encoded data removed]",
      "text/plain": [
       "<Figure size 640x480 with 1 Axes>"
      ]
     },
     "metadata": {},
     "output_type": "display_data"
    }
   ],
   "source": [
    "sn.boxplot(x=call_df['amount'])\n",
    "#here we consider rghe value outliers as most of the orders are free"
   ]
  },
  {
   "cell_type": "markdown",
   "id": "4490cb1b",
   "metadata": {},
   "source": [
    "### 2. Check for missing values in the dataset and handle them appropriately."
   ]
  },
  {
   "cell_type": "code",
   "execution_count": 37,
   "id": "244c3614",
   "metadata": {},
   "outputs": [
    {
     "data": {
      "text/plain": [
       "_id                               0\n",
       "user                              0\n",
       "chatStatus                     8512\n",
       "guru                              0\n",
       "guruName                          0\n",
       "gid                               0\n",
       "uid                               0\n",
       "consultationType                  0\n",
       "website                           0\n",
       "refundStatus                      0\n",
       "isWhiteListUser                   0\n",
       "chatSeconds                    8513\n",
       "queue                             0\n",
       "freeCall                          0\n",
       "freeChat                          0\n",
       "createdAt                         0\n",
       "updatedAt                         0\n",
       "__v                               0\n",
       "statementEntryId                151\n",
       "chatStartTime                 18697\n",
       "chatEndTime                   14996\n",
       "timeDuration                   6629\n",
       "callChannel                   19519\n",
       "callIvrType                   19665\n",
       "callStatus                    19486\n",
       "CallSid                       19662\n",
       "amount                        19011\n",
       "astrologerCallStatus          11769\n",
       "astrologerOnCallDuration      19662\n",
       "astrologersEarnings           19011\n",
       "netAmount                     19011\n",
       "region                        19008\n",
       "userCallStatus                18682\n",
       "userOnCallDuration            19662\n",
       "RecordingUrl                  23702\n",
       "feedback                      25411\n",
       "hideHistory                    8689\n",
       "cardPosition                  27317\n",
       "Remedies                      27925\n",
       "offer                          9249\n",
       "refunds[0]                    28022\n",
       "source                        11736\n",
       "callSeconds                   28025\n",
       "complementaryCallOrganiser    28025\n",
       "disconnectedBy                28018\n",
       "dtype: int64"
      ]
     },
     "execution_count": 37,
     "metadata": {},
     "output_type": "execute_result"
    }
   ],
   "source": [
    "call_df.isna().sum()"
   ]
  },
  {
   "cell_type": "code",
   "execution_count": 38,
   "id": "bd1a763e",
   "metadata": {},
   "outputs": [],
   "source": [
    "# columns like user,guru,guruName are insignificant\n",
    "# columns like disconnectedBy,complementaryCallOrganiser,callSeconds,refunds[0],cardPosition,Remedies,feedback,RecordingUrl\n",
    "call_df.drop(columns=['user','guru','guruName'],axis=0,inplace=True)\n",
    "call_df.drop(columns=['complementaryCallOrganiser','isWhiteListUser','queue','callSeconds','refunds[0]','cardPosition','Remedies','feedback','RecordingUrl','CallSid'],axis=0,inplace=True)"
   ]
  },
  {
   "cell_type": "code",
   "execution_count": 39,
   "id": "b36c7478",
   "metadata": {},
   "outputs": [],
   "source": [
    "#timeDuration is the difference of chatstarttime and chatendtime  in minutes\n",
    "call_df['timeDuration'].fillna(((call_df['chatEndTime']-call_df['chatStartTime']).dt.total_seconds())/60,inplace=True)\n",
    "#call_df['timeDuration'].fillna(0,inplace=True)\n"
   ]
  },
  {
   "cell_type": "code",
   "execution_count": 40,
   "id": "67fd864d",
   "metadata": {},
   "outputs": [
    {
     "data": {
      "text/plain": [
       "consultationType\n",
       "Call                1.979025\n",
       "Chat                1.975428\n",
       "Complementary       5.000000\n",
       "public_live_Call    2.529850\n",
       "Name: timeDuration, dtype: float64"
      ]
     },
     "execution_count": 40,
     "metadata": {},
     "output_type": "execute_result"
    }
   ],
   "source": [
    "call_df.groupby('consultationType')['timeDuration'].mean()"
   ]
  },
  {
   "cell_type": "code",
   "execution_count": 41,
   "id": "a9a601a6",
   "metadata": {},
   "outputs": [],
   "source": [
    "#chat status and call status can be merged into single column\n",
    "call_df['call/chat Status']=call_df['chatStatus'].fillna(call_df['callStatus'])\n",
    "call_df.drop(columns=['chatStatus','callStatus'],axis=0,inplace=True)"
   ]
  },
  {
   "cell_type": "code",
   "execution_count": 42,
   "id": "683cc567",
   "metadata": {},
   "outputs": [],
   "source": [
    "# replacing null value of amount with 0\n",
    "call_df['amount'].fillna(0,inplace=True)\n",
    "call_df['astrologersEarnings'].fillna(0,inplace=True)"
   ]
  },
  {
   "cell_type": "code",
   "execution_count": 43,
   "id": "a038e249",
   "metadata": {},
   "outputs": [],
   "source": [
    "#replacing  None value with best description\n",
    "call_df['astrologerCallStatus'].fillna('Unknown',inplace=True)\n",
    "call_df['userCallStatus'].fillna('Unknown',inplace=True)\n",
    "call_df['region'].fillna('Unknown',inplace=True)\n",
    "call_df['source'].fillna('Unknown',inplace=True)\n",
    "call_df['offer'].fillna('Nothing',inplace=True)\n",
    "call_df['callChannel'].fillna('Others',inplace=True)\n",
    "call_df['callIvrType'].fillna('Others',inplace=True)\n",
    "call_df['hideHistory'].fillna('Unknown',inplace=True)\n",
    "call_df['disconnectedBy'].fillna('Others',inplace=True)"
   ]
  },
  {
   "cell_type": "code",
   "execution_count": 44,
   "id": "f08f0034",
   "metadata": {},
   "outputs": [],
   "source": [
    "call_df['astrologerOnCallDuration'].fillna(0,inplace=True)\n",
    "call_df['userOnCallDuration'].fillna(0.0,inplace=True)"
   ]
  },
  {
   "cell_type": "code",
   "execution_count": 45,
   "id": "7fcb8bae",
   "metadata": {},
   "outputs": [
    {
     "data": {
      "text/html": [
       "<div>\n",
       "<style scoped>\n",
       "    .dataframe tbody tr th:only-of-type {\n",
       "        vertical-align: middle;\n",
       "    }\n",
       "\n",
       "    .dataframe tbody tr th {\n",
       "        vertical-align: top;\n",
       "    }\n",
       "\n",
       "    .dataframe thead th {\n",
       "        text-align: right;\n",
       "    }\n",
       "</style>\n",
       "<table border=\"1\" class=\"dataframe\">\n",
       "  <thead>\n",
       "    <tr style=\"text-align: right;\">\n",
       "      <th></th>\n",
       "      <th>_id</th>\n",
       "      <th>gid</th>\n",
       "      <th>uid</th>\n",
       "      <th>consultationType</th>\n",
       "      <th>website</th>\n",
       "      <th>refundStatus</th>\n",
       "      <th>chatSeconds</th>\n",
       "      <th>freeCall</th>\n",
       "      <th>freeChat</th>\n",
       "      <th>createdAt</th>\n",
       "      <th>updatedAt</th>\n",
       "      <th>__v</th>\n",
       "      <th>statementEntryId</th>\n",
       "      <th>chatStartTime</th>\n",
       "      <th>chatEndTime</th>\n",
       "      <th>timeDuration</th>\n",
       "      <th>callChannel</th>\n",
       "      <th>callIvrType</th>\n",
       "      <th>amount</th>\n",
       "      <th>astrologerCallStatus</th>\n",
       "      <th>astrologerOnCallDuration</th>\n",
       "      <th>astrologersEarnings</th>\n",
       "      <th>netAmount</th>\n",
       "      <th>region</th>\n",
       "      <th>userCallStatus</th>\n",
       "      <th>userOnCallDuration</th>\n",
       "      <th>hideHistory</th>\n",
       "      <th>offer</th>\n",
       "      <th>source</th>\n",
       "      <th>disconnectedBy</th>\n",
       "      <th>call/chat Status</th>\n",
       "    </tr>\n",
       "  </thead>\n",
       "  <tbody>\n",
       "    <tr>\n",
       "      <th>0</th>\n",
       "      <td>656922f2919324acb6e87139</td>\n",
       "      <td>95</td>\n",
       "      <td>30129</td>\n",
       "      <td>Chat</td>\n",
       "      <td>gurucool</td>\n",
       "      <td>no-refund</td>\n",
       "      <td>300.0</td>\n",
       "      <td>False</td>\n",
       "      <td>True</td>\n",
       "      <td>2023-12-01 00:04:02.993000+00:00</td>\n",
       "      <td>2023-12-01 00:07:33.833000+00:00</td>\n",
       "      <td>0</td>\n",
       "      <td>656922f3919324acb6e8713b</td>\n",
       "      <td>2023-12-01 00:07:33.248000+00:00</td>\n",
       "      <td>2023-12-01 00:07:33.773000+00:00</td>\n",
       "      <td>0.008750</td>\n",
       "      <td>Others</td>\n",
       "      <td>Others</td>\n",
       "      <td>0.0</td>\n",
       "      <td>Unknown</td>\n",
       "      <td>0.0</td>\n",
       "      <td>0.0</td>\n",
       "      <td>NaN</td>\n",
       "      <td>Unknown</td>\n",
       "      <td>Unknown</td>\n",
       "      <td>0.0</td>\n",
       "      <td>Unknown</td>\n",
       "      <td>Nothing</td>\n",
       "      <td>Unknown</td>\n",
       "      <td>Others</td>\n",
       "      <td>incomplete</td>\n",
       "    </tr>\n",
       "    <tr>\n",
       "      <th>1</th>\n",
       "      <td>65692413919324acb6e87441</td>\n",
       "      <td>95</td>\n",
       "      <td>30129</td>\n",
       "      <td>Chat</td>\n",
       "      <td>gurucool</td>\n",
       "      <td>no-refund</td>\n",
       "      <td>300.0</td>\n",
       "      <td>False</td>\n",
       "      <td>True</td>\n",
       "      <td>2023-12-01 00:08:51.903000+00:00</td>\n",
       "      <td>2023-12-01 00:09:56.111000+00:00</td>\n",
       "      <td>0</td>\n",
       "      <td>65692413919324acb6e87443</td>\n",
       "      <td>2023-12-01 00:09:55.808000+00:00</td>\n",
       "      <td>2023-12-01 00:09:56.052000+00:00</td>\n",
       "      <td>0.004067</td>\n",
       "      <td>Others</td>\n",
       "      <td>Others</td>\n",
       "      <td>0.0</td>\n",
       "      <td>Unknown</td>\n",
       "      <td>0.0</td>\n",
       "      <td>0.0</td>\n",
       "      <td>NaN</td>\n",
       "      <td>Unknown</td>\n",
       "      <td>Unknown</td>\n",
       "      <td>0.0</td>\n",
       "      <td>Unknown</td>\n",
       "      <td>Nothing</td>\n",
       "      <td>Unknown</td>\n",
       "      <td>Others</td>\n",
       "      <td>incomplete</td>\n",
       "    </tr>\n",
       "    <tr>\n",
       "      <th>2</th>\n",
       "      <td>65692612919324acb6e87738</td>\n",
       "      <td>95</td>\n",
       "      <td>28743</td>\n",
       "      <td>Chat</td>\n",
       "      <td>gurucool</td>\n",
       "      <td>no-refund</td>\n",
       "      <td>300.0</td>\n",
       "      <td>False</td>\n",
       "      <td>True</td>\n",
       "      <td>2023-12-01 00:17:22.270000+00:00</td>\n",
       "      <td>2023-12-01 00:22:04.382000+00:00</td>\n",
       "      <td>0</td>\n",
       "      <td>65692612919324acb6e8773a</td>\n",
       "      <td>2023-12-01 00:22:04.072000+00:00</td>\n",
       "      <td>2023-12-01 00:22:04.325000+00:00</td>\n",
       "      <td>0.004217</td>\n",
       "      <td>Others</td>\n",
       "      <td>Others</td>\n",
       "      <td>0.0</td>\n",
       "      <td>Unknown</td>\n",
       "      <td>0.0</td>\n",
       "      <td>0.0</td>\n",
       "      <td>NaN</td>\n",
       "      <td>Unknown</td>\n",
       "      <td>Unknown</td>\n",
       "      <td>0.0</td>\n",
       "      <td>Unknown</td>\n",
       "      <td>Nothing</td>\n",
       "      <td>Unknown</td>\n",
       "      <td>Others</td>\n",
       "      <td>incomplete</td>\n",
       "    </tr>\n",
       "    <tr>\n",
       "      <th>3</th>\n",
       "      <td>656927c9919324acb6e87b2f</td>\n",
       "      <td>95</td>\n",
       "      <td>30120</td>\n",
       "      <td>Chat</td>\n",
       "      <td>gurucool</td>\n",
       "      <td>no-refund</td>\n",
       "      <td>300.0</td>\n",
       "      <td>False</td>\n",
       "      <td>True</td>\n",
       "      <td>2023-12-01 00:24:41.672000+00:00</td>\n",
       "      <td>2023-12-01 00:29:44.022000+00:00</td>\n",
       "      <td>0</td>\n",
       "      <td>656927c9919324acb6e87b31</td>\n",
       "      <td>2023-12-01 00:29:43.556000+00:00</td>\n",
       "      <td>2023-12-01 00:29:43.960000+00:00</td>\n",
       "      <td>0.006733</td>\n",
       "      <td>Others</td>\n",
       "      <td>Others</td>\n",
       "      <td>0.0</td>\n",
       "      <td>Unknown</td>\n",
       "      <td>0.0</td>\n",
       "      <td>0.0</td>\n",
       "      <td>NaN</td>\n",
       "      <td>Unknown</td>\n",
       "      <td>Unknown</td>\n",
       "      <td>0.0</td>\n",
       "      <td>Unknown</td>\n",
       "      <td>Nothing</td>\n",
       "      <td>Unknown</td>\n",
       "      <td>Others</td>\n",
       "      <td>incomplete</td>\n",
       "    </tr>\n",
       "    <tr>\n",
       "      <th>4</th>\n",
       "      <td>65692d75919324acb6e882dd</td>\n",
       "      <td>95</td>\n",
       "      <td>27790</td>\n",
       "      <td>Chat</td>\n",
       "      <td>gurucool</td>\n",
       "      <td>no-refund</td>\n",
       "      <td>300.0</td>\n",
       "      <td>False</td>\n",
       "      <td>False</td>\n",
       "      <td>2023-12-01 00:48:53.744000+00:00</td>\n",
       "      <td>2023-12-01 00:50:33.153000+00:00</td>\n",
       "      <td>0</td>\n",
       "      <td>65692d75919324acb6e882df</td>\n",
       "      <td>NaT</td>\n",
       "      <td>NaT</td>\n",
       "      <td>NaN</td>\n",
       "      <td>Others</td>\n",
       "      <td>Others</td>\n",
       "      <td>0.0</td>\n",
       "      <td>Unknown</td>\n",
       "      <td>0.0</td>\n",
       "      <td>0.0</td>\n",
       "      <td>NaN</td>\n",
       "      <td>Unknown</td>\n",
       "      <td>Unknown</td>\n",
       "      <td>0.0</td>\n",
       "      <td>Unknown</td>\n",
       "      <td>Nothing</td>\n",
       "      <td>Unknown</td>\n",
       "      <td>Others</td>\n",
       "      <td>failed</td>\n",
       "    </tr>\n",
       "    <tr>\n",
       "      <th>...</th>\n",
       "      <td>...</td>\n",
       "      <td>...</td>\n",
       "      <td>...</td>\n",
       "      <td>...</td>\n",
       "      <td>...</td>\n",
       "      <td>...</td>\n",
       "      <td>...</td>\n",
       "      <td>...</td>\n",
       "      <td>...</td>\n",
       "      <td>...</td>\n",
       "      <td>...</td>\n",
       "      <td>...</td>\n",
       "      <td>...</td>\n",
       "      <td>...</td>\n",
       "      <td>...</td>\n",
       "      <td>...</td>\n",
       "      <td>...</td>\n",
       "      <td>...</td>\n",
       "      <td>...</td>\n",
       "      <td>...</td>\n",
       "      <td>...</td>\n",
       "      <td>...</td>\n",
       "      <td>...</td>\n",
       "      <td>...</td>\n",
       "      <td>...</td>\n",
       "      <td>...</td>\n",
       "      <td>...</td>\n",
       "      <td>...</td>\n",
       "      <td>...</td>\n",
       "      <td>...</td>\n",
       "      <td>...</td>\n",
       "    </tr>\n",
       "    <tr>\n",
       "      <th>95</th>\n",
       "      <td>65696155919324acb6f11ada</td>\n",
       "      <td>239</td>\n",
       "      <td>30156</td>\n",
       "      <td>Chat</td>\n",
       "      <td>gurucool</td>\n",
       "      <td>no-refund</td>\n",
       "      <td>300.0</td>\n",
       "      <td>False</td>\n",
       "      <td>True</td>\n",
       "      <td>2023-12-01 04:30:13.115000+00:00</td>\n",
       "      <td>2023-12-01 04:35:32.227000+00:00</td>\n",
       "      <td>0</td>\n",
       "      <td>65696155919324acb6f11adc</td>\n",
       "      <td>2023-12-01 04:30:22.112000+00:00</td>\n",
       "      <td>2023-12-01 04:35:22.378000+00:00</td>\n",
       "      <td>5.004433</td>\n",
       "      <td>Others</td>\n",
       "      <td>Others</td>\n",
       "      <td>0.0</td>\n",
       "      <td>Unknown</td>\n",
       "      <td>0.0</td>\n",
       "      <td>0.0</td>\n",
       "      <td>0.0</td>\n",
       "      <td>Indian</td>\n",
       "      <td>Unknown</td>\n",
       "      <td>0.0</td>\n",
       "      <td>Unknown</td>\n",
       "      <td>Nothing</td>\n",
       "      <td>Unknown</td>\n",
       "      <td>Others</td>\n",
       "      <td>completed</td>\n",
       "    </tr>\n",
       "    <tr>\n",
       "      <th>96</th>\n",
       "      <td>6569615c919324acb6f11c04</td>\n",
       "      <td>98</td>\n",
       "      <td>30072</td>\n",
       "      <td>Chat</td>\n",
       "      <td>gurucool</td>\n",
       "      <td>no-refund</td>\n",
       "      <td>300.0</td>\n",
       "      <td>False</td>\n",
       "      <td>True</td>\n",
       "      <td>2023-12-01 04:30:20.213000+00:00</td>\n",
       "      <td>2023-12-01 04:31:21.113000+00:00</td>\n",
       "      <td>0</td>\n",
       "      <td>6569615c919324acb6f11c06</td>\n",
       "      <td>2023-12-01 04:31:20.772000+00:00</td>\n",
       "      <td>2023-12-01 04:31:21.043000+00:00</td>\n",
       "      <td>0.004517</td>\n",
       "      <td>Others</td>\n",
       "      <td>Others</td>\n",
       "      <td>0.0</td>\n",
       "      <td>Unknown</td>\n",
       "      <td>0.0</td>\n",
       "      <td>0.0</td>\n",
       "      <td>NaN</td>\n",
       "      <td>Unknown</td>\n",
       "      <td>Unknown</td>\n",
       "      <td>0.0</td>\n",
       "      <td>Unknown</td>\n",
       "      <td>Nothing</td>\n",
       "      <td>Unknown</td>\n",
       "      <td>Others</td>\n",
       "      <td>incomplete</td>\n",
       "    </tr>\n",
       "    <tr>\n",
       "      <th>97</th>\n",
       "      <td>656961b6919324acb6f12a5d</td>\n",
       "      <td>98</td>\n",
       "      <td>29650</td>\n",
       "      <td>Chat</td>\n",
       "      <td>gurucool</td>\n",
       "      <td>no-refund</td>\n",
       "      <td>300.0</td>\n",
       "      <td>False</td>\n",
       "      <td>True</td>\n",
       "      <td>2023-12-01 04:31:50.913000+00:00</td>\n",
       "      <td>2023-12-01 04:34:58.468000+00:00</td>\n",
       "      <td>0</td>\n",
       "      <td>656961b6919324acb6f12a5f</td>\n",
       "      <td>2023-12-01 04:34:58.178000+00:00</td>\n",
       "      <td>2023-12-01 04:34:58.411000+00:00</td>\n",
       "      <td>0.003883</td>\n",
       "      <td>Others</td>\n",
       "      <td>Others</td>\n",
       "      <td>0.0</td>\n",
       "      <td>Unknown</td>\n",
       "      <td>0.0</td>\n",
       "      <td>0.0</td>\n",
       "      <td>NaN</td>\n",
       "      <td>Unknown</td>\n",
       "      <td>Unknown</td>\n",
       "      <td>0.0</td>\n",
       "      <td>Unknown</td>\n",
       "      <td>Nothing</td>\n",
       "      <td>Unknown</td>\n",
       "      <td>Others</td>\n",
       "      <td>incomplete</td>\n",
       "    </tr>\n",
       "    <tr>\n",
       "      <th>98</th>\n",
       "      <td>65696275919324acb6f13b47</td>\n",
       "      <td>98</td>\n",
       "      <td>29650</td>\n",
       "      <td>Chat</td>\n",
       "      <td>gurucool</td>\n",
       "      <td>no-refund</td>\n",
       "      <td>300.0</td>\n",
       "      <td>False</td>\n",
       "      <td>True</td>\n",
       "      <td>2023-12-01 04:35:01.480000+00:00</td>\n",
       "      <td>2023-12-01 04:38:49.029000+00:00</td>\n",
       "      <td>0</td>\n",
       "      <td>65696275919324acb6f13b49</td>\n",
       "      <td>2023-12-01 04:38:48.732000+00:00</td>\n",
       "      <td>2023-12-01 04:38:48.971000+00:00</td>\n",
       "      <td>0.003983</td>\n",
       "      <td>Others</td>\n",
       "      <td>Others</td>\n",
       "      <td>0.0</td>\n",
       "      <td>Unknown</td>\n",
       "      <td>0.0</td>\n",
       "      <td>0.0</td>\n",
       "      <td>NaN</td>\n",
       "      <td>Unknown</td>\n",
       "      <td>Unknown</td>\n",
       "      <td>0.0</td>\n",
       "      <td>Unknown</td>\n",
       "      <td>Nothing</td>\n",
       "      <td>Unknown</td>\n",
       "      <td>Others</td>\n",
       "      <td>incomplete</td>\n",
       "    </tr>\n",
       "    <tr>\n",
       "      <th>99</th>\n",
       "      <td>65696283919324acb6f13b91</td>\n",
       "      <td>181</td>\n",
       "      <td>30111</td>\n",
       "      <td>Chat</td>\n",
       "      <td>gurucool</td>\n",
       "      <td>no-refund</td>\n",
       "      <td>300.0</td>\n",
       "      <td>False</td>\n",
       "      <td>True</td>\n",
       "      <td>2023-12-01 04:35:15.450000+00:00</td>\n",
       "      <td>2023-12-01 04:43:34.231000+00:00</td>\n",
       "      <td>0</td>\n",
       "      <td>65696283919324acb6f13b93</td>\n",
       "      <td>2023-12-01 04:37:04.545000+00:00</td>\n",
       "      <td>2023-12-01 04:38:39.085000+00:00</td>\n",
       "      <td>1.575667</td>\n",
       "      <td>Others</td>\n",
       "      <td>Others</td>\n",
       "      <td>0.0</td>\n",
       "      <td>Unknown</td>\n",
       "      <td>0.0</td>\n",
       "      <td>0.0</td>\n",
       "      <td>0.0</td>\n",
       "      <td>Indian</td>\n",
       "      <td>Unknown</td>\n",
       "      <td>0.0</td>\n",
       "      <td>Unknown</td>\n",
       "      <td>Nothing</td>\n",
       "      <td>Unknown</td>\n",
       "      <td>Others</td>\n",
       "      <td>completed</td>\n",
       "    </tr>\n",
       "  </tbody>\n",
       "</table>\n",
       "<p>100 rows × 31 columns</p>\n",
       "</div>"
      ],
      "text/plain": [
       "                         _id  gid    uid consultationType   website  \\\n",
       "0   656922f2919324acb6e87139   95  30129             Chat  gurucool   \n",
       "1   65692413919324acb6e87441   95  30129             Chat  gurucool   \n",
       "2   65692612919324acb6e87738   95  28743             Chat  gurucool   \n",
       "3   656927c9919324acb6e87b2f   95  30120             Chat  gurucool   \n",
       "4   65692d75919324acb6e882dd   95  27790             Chat  gurucool   \n",
       "..                       ...  ...    ...              ...       ...   \n",
       "95  65696155919324acb6f11ada  239  30156             Chat  gurucool   \n",
       "96  6569615c919324acb6f11c04   98  30072             Chat  gurucool   \n",
       "97  656961b6919324acb6f12a5d   98  29650             Chat  gurucool   \n",
       "98  65696275919324acb6f13b47   98  29650             Chat  gurucool   \n",
       "99  65696283919324acb6f13b91  181  30111             Chat  gurucool   \n",
       "\n",
       "   refundStatus  chatSeconds  freeCall  freeChat  \\\n",
       "0     no-refund        300.0     False      True   \n",
       "1     no-refund        300.0     False      True   \n",
       "2     no-refund        300.0     False      True   \n",
       "3     no-refund        300.0     False      True   \n",
       "4     no-refund        300.0     False     False   \n",
       "..          ...          ...       ...       ...   \n",
       "95    no-refund        300.0     False      True   \n",
       "96    no-refund        300.0     False      True   \n",
       "97    no-refund        300.0     False      True   \n",
       "98    no-refund        300.0     False      True   \n",
       "99    no-refund        300.0     False      True   \n",
       "\n",
       "                          createdAt                        updatedAt  __v  \\\n",
       "0  2023-12-01 00:04:02.993000+00:00 2023-12-01 00:07:33.833000+00:00    0   \n",
       "1  2023-12-01 00:08:51.903000+00:00 2023-12-01 00:09:56.111000+00:00    0   \n",
       "2  2023-12-01 00:17:22.270000+00:00 2023-12-01 00:22:04.382000+00:00    0   \n",
       "3  2023-12-01 00:24:41.672000+00:00 2023-12-01 00:29:44.022000+00:00    0   \n",
       "4  2023-12-01 00:48:53.744000+00:00 2023-12-01 00:50:33.153000+00:00    0   \n",
       "..                              ...                              ...  ...   \n",
       "95 2023-12-01 04:30:13.115000+00:00 2023-12-01 04:35:32.227000+00:00    0   \n",
       "96 2023-12-01 04:30:20.213000+00:00 2023-12-01 04:31:21.113000+00:00    0   \n",
       "97 2023-12-01 04:31:50.913000+00:00 2023-12-01 04:34:58.468000+00:00    0   \n",
       "98 2023-12-01 04:35:01.480000+00:00 2023-12-01 04:38:49.029000+00:00    0   \n",
       "99 2023-12-01 04:35:15.450000+00:00 2023-12-01 04:43:34.231000+00:00    0   \n",
       "\n",
       "            statementEntryId                    chatStartTime  \\\n",
       "0   656922f3919324acb6e8713b 2023-12-01 00:07:33.248000+00:00   \n",
       "1   65692413919324acb6e87443 2023-12-01 00:09:55.808000+00:00   \n",
       "2   65692612919324acb6e8773a 2023-12-01 00:22:04.072000+00:00   \n",
       "3   656927c9919324acb6e87b31 2023-12-01 00:29:43.556000+00:00   \n",
       "4   65692d75919324acb6e882df                              NaT   \n",
       "..                       ...                              ...   \n",
       "95  65696155919324acb6f11adc 2023-12-01 04:30:22.112000+00:00   \n",
       "96  6569615c919324acb6f11c06 2023-12-01 04:31:20.772000+00:00   \n",
       "97  656961b6919324acb6f12a5f 2023-12-01 04:34:58.178000+00:00   \n",
       "98  65696275919324acb6f13b49 2023-12-01 04:38:48.732000+00:00   \n",
       "99  65696283919324acb6f13b93 2023-12-01 04:37:04.545000+00:00   \n",
       "\n",
       "                        chatEndTime  timeDuration callChannel callIvrType  \\\n",
       "0  2023-12-01 00:07:33.773000+00:00      0.008750      Others      Others   \n",
       "1  2023-12-01 00:09:56.052000+00:00      0.004067      Others      Others   \n",
       "2  2023-12-01 00:22:04.325000+00:00      0.004217      Others      Others   \n",
       "3  2023-12-01 00:29:43.960000+00:00      0.006733      Others      Others   \n",
       "4                               NaT           NaN      Others      Others   \n",
       "..                              ...           ...         ...         ...   \n",
       "95 2023-12-01 04:35:22.378000+00:00      5.004433      Others      Others   \n",
       "96 2023-12-01 04:31:21.043000+00:00      0.004517      Others      Others   \n",
       "97 2023-12-01 04:34:58.411000+00:00      0.003883      Others      Others   \n",
       "98 2023-12-01 04:38:48.971000+00:00      0.003983      Others      Others   \n",
       "99 2023-12-01 04:38:39.085000+00:00      1.575667      Others      Others   \n",
       "\n",
       "    amount astrologerCallStatus  astrologerOnCallDuration  \\\n",
       "0      0.0              Unknown                       0.0   \n",
       "1      0.0              Unknown                       0.0   \n",
       "2      0.0              Unknown                       0.0   \n",
       "3      0.0              Unknown                       0.0   \n",
       "4      0.0              Unknown                       0.0   \n",
       "..     ...                  ...                       ...   \n",
       "95     0.0              Unknown                       0.0   \n",
       "96     0.0              Unknown                       0.0   \n",
       "97     0.0              Unknown                       0.0   \n",
       "98     0.0              Unknown                       0.0   \n",
       "99     0.0              Unknown                       0.0   \n",
       "\n",
       "    astrologersEarnings  netAmount   region userCallStatus  \\\n",
       "0                   0.0        NaN  Unknown        Unknown   \n",
       "1                   0.0        NaN  Unknown        Unknown   \n",
       "2                   0.0        NaN  Unknown        Unknown   \n",
       "3                   0.0        NaN  Unknown        Unknown   \n",
       "4                   0.0        NaN  Unknown        Unknown   \n",
       "..                  ...        ...      ...            ...   \n",
       "95                  0.0        0.0   Indian        Unknown   \n",
       "96                  0.0        NaN  Unknown        Unknown   \n",
       "97                  0.0        NaN  Unknown        Unknown   \n",
       "98                  0.0        NaN  Unknown        Unknown   \n",
       "99                  0.0        0.0   Indian        Unknown   \n",
       "\n",
       "    userOnCallDuration hideHistory    offer   source disconnectedBy  \\\n",
       "0                  0.0     Unknown  Nothing  Unknown         Others   \n",
       "1                  0.0     Unknown  Nothing  Unknown         Others   \n",
       "2                  0.0     Unknown  Nothing  Unknown         Others   \n",
       "3                  0.0     Unknown  Nothing  Unknown         Others   \n",
       "4                  0.0     Unknown  Nothing  Unknown         Others   \n",
       "..                 ...         ...      ...      ...            ...   \n",
       "95                 0.0     Unknown  Nothing  Unknown         Others   \n",
       "96                 0.0     Unknown  Nothing  Unknown         Others   \n",
       "97                 0.0     Unknown  Nothing  Unknown         Others   \n",
       "98                 0.0     Unknown  Nothing  Unknown         Others   \n",
       "99                 0.0     Unknown  Nothing  Unknown         Others   \n",
       "\n",
       "   call/chat Status  \n",
       "0        incomplete  \n",
       "1        incomplete  \n",
       "2        incomplete  \n",
       "3        incomplete  \n",
       "4            failed  \n",
       "..              ...  \n",
       "95        completed  \n",
       "96       incomplete  \n",
       "97       incomplete  \n",
       "98       incomplete  \n",
       "99        completed  \n",
       "\n",
       "[100 rows x 31 columns]"
      ]
     },
     "execution_count": 45,
     "metadata": {},
     "output_type": "execute_result"
    }
   ],
   "source": [
    "call_df.head(100)"
   ]
  },
  {
   "cell_type": "code",
   "execution_count": 46,
   "id": "d2471409",
   "metadata": {},
   "outputs": [
    {
     "data": {
      "text/plain": [
       "_id                             0\n",
       "gid                             0\n",
       "uid                             0\n",
       "consultationType                0\n",
       "website                         0\n",
       "refundStatus                    0\n",
       "chatSeconds                  8513\n",
       "freeCall                        0\n",
       "freeChat                        0\n",
       "createdAt                       0\n",
       "updatedAt                       0\n",
       "__v                             0\n",
       "statementEntryId              151\n",
       "chatStartTime               18697\n",
       "chatEndTime                 14996\n",
       "timeDuration                 6629\n",
       "callChannel                     0\n",
       "callIvrType                     0\n",
       "amount                          0\n",
       "astrologerCallStatus            0\n",
       "astrologerOnCallDuration        0\n",
       "astrologersEarnings             0\n",
       "netAmount                   19011\n",
       "region                          0\n",
       "userCallStatus                  0\n",
       "userOnCallDuration              0\n",
       "hideHistory                     0\n",
       "offer                           0\n",
       "source                          0\n",
       "disconnectedBy                  0\n",
       "call/chat Status                0\n",
       "dtype: int64"
      ]
     },
     "execution_count": 46,
     "metadata": {},
     "output_type": "execute_result"
    }
   ],
   "source": [
    "call_df.isna().sum()"
   ]
  },
  {
   "cell_type": "markdown",
   "id": "956fb8ed",
   "metadata": {},
   "source": [
    "### 4. Visualize the distribution of call charges using a histogram."
   ]
  },
  {
   "cell_type": "code",
   "execution_count": 47,
   "id": "0e3c31af",
   "metadata": {},
   "outputs": [
    {
     "data": {
      "image/png": "[encoded data removed]",
      "text/plain": [
       "<Figure size 640x480 with 1 Axes>"
      ]
     },
     "metadata": {},
     "output_type": "display_data"
    }
   ],
   "source": [
    "ax=sn.histplot(call_df['amount'],binwidth=100)\n",
    "for i in ax.containers:\n",
    "  ax.bar_label(i,)"
   ]
  },
  {
   "cell_type": "markdown",
   "id": "34546998",
   "metadata": {},
   "source": [
    "### 3. Provide summary statistics for key numeric columns (e.g., Charge, TalkTime)."
   ]
  },
  {
   "cell_type": "code",
   "execution_count": 48,
   "id": "9ee0a112",
   "metadata": {},
   "outputs": [
    {
     "data": {
      "text/html": [
       "<div>\n",
       "<style scoped>\n",
       "    .dataframe tbody tr th:only-of-type {\n",
       "        vertical-align: middle;\n",
       "    }\n",
       "\n",
       "    .dataframe tbody tr th {\n",
       "        vertical-align: top;\n",
       "    }\n",
       "\n",
       "    .dataframe thead th {\n",
       "        text-align: right;\n",
       "    }\n",
       "</style>\n",
       "<table border=\"1\" class=\"dataframe\">\n",
       "  <thead>\n",
       "    <tr style=\"text-align: right;\">\n",
       "      <th></th>\n",
       "      <th>chatSeconds</th>\n",
       "      <th>timeDuration</th>\n",
       "      <th>amount</th>\n",
       "      <th>astrologerOnCallDuration</th>\n",
       "      <th>astrologersEarnings</th>\n",
       "      <th>netAmount</th>\n",
       "      <th>userOnCallDuration</th>\n",
       "    </tr>\n",
       "  </thead>\n",
       "  <tbody>\n",
       "    <tr>\n",
       "      <th>count</th>\n",
       "      <td>19514.000000</td>\n",
       "      <td>21398.000000</td>\n",
       "      <td>28027.000000</td>\n",
       "      <td>28027.000000</td>\n",
       "      <td>28027.000000</td>\n",
       "      <td>9016.000000</td>\n",
       "      <td>28027.000000</td>\n",
       "    </tr>\n",
       "    <tr>\n",
       "      <th>mean</th>\n",
       "      <td>349.158553</td>\n",
       "      <td>1.977168</td>\n",
       "      <td>7.637846</td>\n",
       "      <td>0.640658</td>\n",
       "      <td>3.537538</td>\n",
       "      <td>23.734174</td>\n",
       "      <td>0.590880</td>\n",
       "    </tr>\n",
       "    <tr>\n",
       "      <th>std</th>\n",
       "      <td>319.588213</td>\n",
       "      <td>3.340467</td>\n",
       "      <td>50.648404</td>\n",
       "      <td>2.439078</td>\n",
       "      <td>24.446619</td>\n",
       "      <td>87.134775</td>\n",
       "      <td>2.403724</td>\n",
       "    </tr>\n",
       "    <tr>\n",
       "      <th>min</th>\n",
       "      <td>300.000000</td>\n",
       "      <td>-0.166667</td>\n",
       "      <td>0.000000</td>\n",
       "      <td>0.000000</td>\n",
       "      <td>0.000000</td>\n",
       "      <td>0.000000</td>\n",
       "      <td>0.000000</td>\n",
       "    </tr>\n",
       "    <tr>\n",
       "      <th>25%</th>\n",
       "      <td>300.000000</td>\n",
       "      <td>0.000000</td>\n",
       "      <td>0.000000</td>\n",
       "      <td>0.000000</td>\n",
       "      <td>0.000000</td>\n",
       "      <td>0.000000</td>\n",
       "      <td>0.000000</td>\n",
       "    </tr>\n",
       "    <tr>\n",
       "      <th>50%</th>\n",
       "      <td>300.000000</td>\n",
       "      <td>0.100000</td>\n",
       "      <td>0.000000</td>\n",
       "      <td>0.000000</td>\n",
       "      <td>0.000000</td>\n",
       "      <td>0.000000</td>\n",
       "      <td>0.000000</td>\n",
       "    </tr>\n",
       "    <tr>\n",
       "      <th>75%</th>\n",
       "      <td>300.000000</td>\n",
       "      <td>4.356962</td>\n",
       "      <td>0.000000</td>\n",
       "      <td>0.000000</td>\n",
       "      <td>0.000000</td>\n",
       "      <td>0.000000</td>\n",
       "      <td>0.000000</td>\n",
       "    </tr>\n",
       "    <tr>\n",
       "      <th>max</th>\n",
       "      <td>7980.000000</td>\n",
       "      <td>67.000000</td>\n",
       "      <td>1800.000000</td>\n",
       "      <td>67.150000</td>\n",
       "      <td>900.000000</td>\n",
       "      <td>1800.000000</td>\n",
       "      <td>67.000000</td>\n",
       "    </tr>\n",
       "  </tbody>\n",
       "</table>\n",
       "</div>"
      ],
      "text/plain": [
       "        chatSeconds  timeDuration        amount  astrologerOnCallDuration  \\\n",
       "count  19514.000000  21398.000000  28027.000000              28027.000000   \n",
       "mean     349.158553      1.977168      7.637846                  0.640658   \n",
       "std      319.588213      3.340467     50.648404                  2.439078   \n",
       "min      300.000000     -0.166667      0.000000                  0.000000   \n",
       "25%      300.000000      0.000000      0.000000                  0.000000   \n",
       "50%      300.000000      0.100000      0.000000                  0.000000   \n",
       "75%      300.000000      4.356962      0.000000                  0.000000   \n",
       "max     7980.000000     67.000000   1800.000000                 67.150000   \n",
       "\n",
       "       astrologersEarnings    netAmount  userOnCallDuration  \n",
       "count         28027.000000  9016.000000        28027.000000  \n",
       "mean              3.537538    23.734174            0.590880  \n",
       "std              24.446619    87.134775            2.403724  \n",
       "min               0.000000     0.000000            0.000000  \n",
       "25%               0.000000     0.000000            0.000000  \n",
       "50%               0.000000     0.000000            0.000000  \n",
       "75%               0.000000     0.000000            0.000000  \n",
       "max             900.000000  1800.000000           67.000000  "
      ]
     },
     "execution_count": 48,
     "metadata": {},
     "output_type": "execute_result"
    }
   ],
   "source": [
    "call_df[['chatSeconds','timeDuration','amount','astrologerOnCallDuration','astrologersEarnings','netAmount','userOnCallDuration']].describe()"
   ]
  },
  {
   "cell_type": "markdown",
   "id": "c0f40008",
   "metadata": {},
   "source": [
    "## Task 2: Call Center Performance Metrics"
   ]
  },
  {
   "cell_type": "markdown",
   "id": "1df99987",
   "metadata": {},
   "source": [
    "### 5. Calculate the average TalkTime for different call activities (Activity column)."
   ]
  },
  {
   "cell_type": "code",
   "execution_count": 49,
   "id": "7355b907",
   "metadata": {},
   "outputs": [
    {
     "data": {
      "text/plain": [
       "consultationType\n",
       "Call                1.979025\n",
       "Chat                1.975428\n",
       "Complementary       5.000000\n",
       "public_live_Call    2.529850\n",
       "Name: timeDuration, dtype: float64"
      ]
     },
     "execution_count": 49,
     "metadata": {},
     "output_type": "execute_result"
    }
   ],
   "source": [
    "average_time_duration = call_df.groupby('consultationType')['timeDuration'].mean()\n",
    "average_time_duration"
   ]
  },
  {
   "cell_type": "markdown",
   "id": "1c979e0d",
   "metadata": {},
   "source": [
    "### 6. Determine the most common source of calls (Source column)"
   ]
  },
  {
   "cell_type": "code",
   "execution_count": 50,
   "id": "64a91539",
   "metadata": {},
   "outputs": [
    {
     "data": {
      "image/png": "[encoded data removed]",
      "text/plain": [
       "<Figure size 640x480 with 1 Axes>"
      ]
     },
     "metadata": {},
     "output_type": "display_data"
    }
   ],
   "source": [
    "color_map = [\"#3A7089\", \"#4b4b4c\",'#99AEBB','#5C8374']\n",
    "plt.pie(call_df['source'].value_counts().values,labels = call_df['source'].value_counts().index,autopct = '%.1f%%',colors = color_map,textprops={'fontsize': 13, 'color': 'black'})\n",
    "plt.title('source Distribution',{'font':'serif', 'size':10,'weight':'bold'})\n",
    "plt.show()"
   ]
  },
  {
   "cell_type": "markdown",
   "id": "cbc09f12",
   "metadata": {},
   "source": [
    "### 7. Calculate the total earnings and spending for both users and masters."
   ]
  },
  {
   "cell_type": "code",
   "execution_count": 51,
   "id": "e7d916ae",
   "metadata": {},
   "outputs": [
    {
     "data": {
      "text/plain": [
       "99146.57095000001"
      ]
     },
     "execution_count": 51,
     "metadata": {},
     "output_type": "execute_result"
    }
   ],
   "source": [
    "total_astrologersEarnings = call_df['astrologersEarnings'].sum()\n",
    "total_astrologersEarnings"
   ]
  },
  {
   "cell_type": "code",
   "execution_count": 52,
   "id": "0cf067e9",
   "metadata": {},
   "outputs": [
    {
     "data": {
      "text/plain": [
       "213987.31533333333"
      ]
     },
     "execution_count": 52,
     "metadata": {},
     "output_type": "execute_result"
    }
   ],
   "source": [
    "total_userspendings = call_df['netAmount'].sum()\n",
    "total_userspendings"
   ]
  },
  {
   "cell_type": "code",
   "execution_count": 53,
   "id": "e305bc14",
   "metadata": {},
   "outputs": [
    {
     "data": {
      "text/plain": [
       "0.4633291968524253"
      ]
     },
     "execution_count": 53,
     "metadata": {},
     "output_type": "execute_result"
    }
   ],
   "source": [
    "total_astrologersEarnings/total_userspendings"
   ]
  },
  {
   "cell_type": "markdown",
   "id": "d18967bf",
   "metadata": {},
   "source": [
    "### 8. Analyze the relationship between TalkTime and Charge."
   ]
  },
  {
   "cell_type": "code",
   "execution_count": 54,
   "id": "a90d2425",
   "metadata": {},
   "outputs": [
    {
     "data": {
      "image/png": "[encoded data removed]",
      "text/plain": [
       "<Figure size 640x480 with 1 Axes>"
      ]
     },
     "metadata": {},
     "output_type": "display_data"
    }
   ],
   "source": [
    "plt.scatter(call_df['timeDuration'],call_df['amount'])\n",
    "plt.title('relationship between TalkTime and Charge',{'font':'serif', 'size':10,'weight':'bold'})\n",
    "plt.xlabel('timeDuration')\n",
    "plt.ylabel('Charge')\n",
    "plt.show()"
   ]
  },
  {
   "cell_type": "code",
   "execution_count": 55,
   "id": "e75f894d",
   "metadata": {},
   "outputs": [],
   "source": [
    "\n",
    "duration_bins = [0, 10, 20, 30, 40, 50, 60, 70]  # Define income ranges\n",
    "duration_labels = ['0-10', '10-20', '20-30', '30-40', '40-50', '50-60', '60-70']  # Define labels for each category\n",
    "\n",
    "# Convert income to categorical variable using pd.cut()\n",
    "call_df['duration_Category'] = pd.cut(call_df['timeDuration'], bins=duration_bins, labels=duration_labels)"
   ]
  },
  {
   "cell_type": "code",
   "execution_count": 56,
   "id": "814744c8",
   "metadata": {},
   "outputs": [
    {
     "data": {
      "image/png": "[encoded data removed]",
      "text/plain": [
       "<Figure size 640x480 with 1 Axes>"
      ]
     },
     "metadata": {},
     "output_type": "display_data"
    }
   ],
   "source": [
    "call_df_duration=call_df.groupby('duration_Category')['amount'].mean()\n",
    "ax=call_df_duration.plot(kind='bar',color= [\"#3A7089\", \"#4b4b4c\",'#99AEBB','#5C8374','#6F7597'])\n",
    "for i, v in enumerate(call_df_duration):\n",
    "    ax.text(i, v + 0.02, f'{v:.2f}', ha='center', va='bottom')\n",
    "\n",
    "plt.title('Call duration and charge  Distribution',{'font':'serif', 'size':10,'weight':'bold'})\n",
    "plt.show()"
   ]
  },
  {
   "cell_type": "markdown",
   "id": "32aa4ba0",
   "metadata": {},
   "source": [
    "## Task 3: Call Handling Analysis"
   ]
  },
  {
   "cell_type": "markdown",
   "id": "b7c72bd1",
   "metadata": {},
   "source": [
    "### 9. Calculate the average time it takes for calls to be connected \n"
   ]
  },
  {
   "cell_type": "code",
   "execution_count": 57,
   "id": "0400f6af",
   "metadata": {},
   "outputs": [
    {
     "data": {
      "text/plain": [
       "0.0008296464123880543"
      ]
     },
     "execution_count": 57,
     "metadata": {},
     "output_type": "execute_result"
    }
   ],
   "source": [
    "#time taken for call to be connected is difference between astrologerOnCallDuration time and userOnCallDuration\n",
    "\n",
    "call_df['connect_time']=abs(call_df['userOnCallDuration']-call_df['astrologerOnCallDuration'])/60\n",
    "\n",
    "# Calculate the average time it takes for calls to be connected\n",
    "\n",
    "average_connect_time = call_df['connect_time'].mean()\n",
    "average_connect_time"
   ]
  },
  {
   "cell_type": "markdown",
   "id": "ec0a0df9",
   "metadata": {},
   "source": [
    "### 10. Identify the most common reason for call disconnection ."
   ]
  },
  {
   "cell_type": "code",
   "execution_count": 58,
   "id": "0673d4ef",
   "metadata": {},
   "outputs": [
    {
     "data": {
      "text/plain": [
       "array(['Unknown', 'completed', 'busy', 'no-answer', 'canceled', 'failed'],\n",
       "      dtype=object)"
      ]
     },
     "execution_count": 58,
     "metadata": {},
     "output_type": "execute_result"
    }
   ],
   "source": [
    "call_df['userCallStatus'].unique()"
   ]
  },
  {
   "cell_type": "code",
   "execution_count": 59,
   "id": "be25594d",
   "metadata": {},
   "outputs": [
    {
     "data": {
      "text/plain": [
       "array(['Unknown', 'completed', 'failed', 'busy', 'no-answer'],\n",
       "      dtype=object)"
      ]
     },
     "execution_count": 59,
     "metadata": {},
     "output_type": "execute_result"
    }
   ],
   "source": [
    "call_df['astrologerCallStatus'].unique()"
   ]
  },
  {
   "cell_type": "code",
   "execution_count": 60,
   "id": "89b40ea8",
   "metadata": {},
   "outputs": [],
   "source": [
    "def assign_disconnect_reason(row):\n",
    "    if row['userCallStatus'] == 'busy':\n",
    "        return 'user busy'\n",
    "    elif row['astrologerCallStatus'] == 'busy':\n",
    "        return 'astrologer busy'\n",
    "    elif row['userCallStatus'] == 'no-answer':\n",
    "        return 'user no-answer'\n",
    "    elif row['astrologerCallStatus'] == 'no-answer':\n",
    "        return 'astrologer no-answer'\n",
    "    elif row['userCallStatus'] == 'failed':\n",
    "        return 'user failed'\n",
    "    elif row['astrologerCallStatus'] == 'failed':\n",
    "        return 'astrologer failed'\n",
    "    elif row['userCallStatus'] == 'canceled':\n",
    "        return 'user canceled'\n",
    "    elif row['astrologerCallStatus'] == 'completed' and row['userCallStatus'] == 'completed':\n",
    "        return 'astrologer busy'\n",
    "    else:\n",
    "        return 'Unknown'\n",
    "\n",
    "# Apply the function to create the 'disconnect_reason' column\n",
    "call_df['disconnect_reason'] = call_df.apply(assign_disconnect_reason, axis=1)"
   ]
  },
  {
   "cell_type": "code",
   "execution_count": 61,
   "id": "b91fe312",
   "metadata": {},
   "outputs": [
    {
     "data": {
      "text/plain": [
       "Unknown                 11609\n",
       "astrologer busy          8954\n",
       "astrologer no-answer     5367\n",
       "user canceled             988\n",
       "user busy                 439\n",
       "astrologer failed         377\n",
       "user no-answer            207\n",
       "user failed                86\n",
       "Name: disconnect_reason, dtype: int64"
      ]
     },
     "execution_count": 61,
     "metadata": {},
     "output_type": "execute_result"
    }
   ],
   "source": [
    "call_df['disconnect_reason'].value_counts()"
   ]
  },
  {
   "cell_type": "markdown",
   "id": "5bf6067d",
   "metadata": {},
   "source": [
    "### 11. Analyze the HangUpTime patterns and identify any trends."
   ]
  },
  {
   "cell_type": "code",
   "execution_count": 62,
   "id": "df9990dd",
   "metadata": {},
   "outputs": [
    {
     "data": {
      "image/png": "[encoded data removed]",
      "text/plain": [
       "<Figure size 640x480 with 1 Axes>"
      ]
     },
     "metadata": {},
     "output_type": "display_data"
    }
   ],
   "source": [
    "#Changup time denote the time when the call is disconeected.\n",
    "#It can be analysed using trends in time duration\n",
    "call_df['timeDuration'].plot(kind = 'density')\n",
    "plt.show()"
   ]
  },
  {
   "cell_type": "markdown",
   "id": "d4198bf3",
   "metadata": {},
   "source": [
    "## Task 4: Order and Refund Analysis"
   ]
  },
  {
   "cell_type": "markdown",
   "id": "08debc70",
   "metadata": {},
   "source": [
    "### 12. Determine the order status distribution for calls."
   ]
  },
  {
   "cell_type": "code",
   "execution_count": 63,
   "id": "44710fac",
   "metadata": {},
   "outputs": [
    {
     "data": {
      "text/plain": [
       "completed     8987\n",
       "failed        8442\n",
       "incomplete    7516\n",
       "no-answer     1729\n",
       "busy          1270\n",
       "pending         48\n",
       "started         35\n",
       "Name: call/chat Status, dtype: int64"
      ]
     },
     "execution_count": 63,
     "metadata": {},
     "output_type": "execute_result"
    }
   ],
   "source": [
    "# call satus will give us information about the status of order\n",
    "call_df['call/chat Status'].value_counts()"
   ]
  },
  {
   "cell_type": "markdown",
   "id": "7fb19e22",
   "metadata": {},
   "source": [
    "### 13. Calculate the total refund amount and identify the refund status distribution."
   ]
  },
  {
   "cell_type": "code",
   "execution_count": 64,
   "id": "e820b565",
   "metadata": {},
   "outputs": [
    {
     "data": {
      "text/plain": [
       "no-refund     28022\n",
       "Approved          3\n",
       "Rejected          1\n",
       "Processing        1\n",
       "Name: refundStatus, dtype: int64"
      ]
     },
     "execution_count": 64,
     "metadata": {},
     "output_type": "execute_result"
    }
   ],
   "source": [
    "call_df['refundStatus'].value_counts()"
   ]
  },
  {
   "cell_type": "code",
   "execution_count": 65,
   "id": "b6db5fc2",
   "metadata": {},
   "outputs": [
    {
     "data": {
      "text/plain": [
       "78.58333333333333"
      ]
     },
     "execution_count": 65,
     "metadata": {},
     "output_type": "execute_result"
    }
   ],
   "source": [
    "#the difference in amount and netAmoount gives the information about the refund or offer amount\n",
    "call_df['offer_Or_refund amount']=call_df['amount']-call_df['netAmount']\n",
    "call_df['offer_Or_refund amount'].sum()"
   ]
  },
  {
   "cell_type": "code",
   "execution_count": 66,
   "id": "dfbcc34e",
   "metadata": {},
   "outputs": [
    {
     "data": {
      "image/png": "[encoded data removed]",
      "text/plain": [
       "<Figure size 640x480 with 1 Axes>"
      ]
     },
     "metadata": {},
     "output_type": "display_data"
    }
   ],
   "source": [
    "ax=sn.histplot(call_df['offer_Or_refund amount'],color='#3A7089')\n",
    "for i in ax.containers:\n",
    "  ax.bar_label(i,)\n",
    "plt.show()"
   ]
  },
  {
   "cell_type": "markdown",
   "id": "6cb2b250",
   "metadata": {},
   "source": [
    "## Task 5: Insights and Recommendations"
   ]
  },
  {
   "cell_type": "markdown",
   "id": "9ddf6c76",
   "metadata": {},
   "source": [
    "### 14. Based on your analysis, provide insights into call center performance and any actionable recommendations for improving call handling, user satisfaction, or earnings."
   ]
  },
  {
   "cell_type": "markdown",
   "id": "4ea07268",
   "metadata": {},
   "source": [
    " ## Insights\n",
    " \n",
    " >we are dealing with cunsulatation data dated from 01-12-2023 to 03-01-2024.\n",
    " \n",
    " >Users approch gurus through gurucool website app and dashboard.72% of user use gurucool website for availing the service where as  28% uses app for the purpose.\n",
    " \n",
    " >Reviewing the chat status  shows that 40% of total chats  are recorded as completed,where as a total of 50% are accounted as unsuccessful.Similarly more than 70% of the call are unsuccessful either being incomplete,failed or pending.when combing the results of call and chats less than 1/3 of the consulatation are in completed status remaing 70% of the attempts are unsuccessful.\n",
    " \n",
    " >Out of the 4 cunsultation process public live call and Complimentary consultations occurs the least.Chat consultation account for almost 70% of cunsultations and 30% is via call.\n",
    " \n",
    " >Though there are 131 gurus,the number of consutations attempted by them  varies over a wide  range ranging from 1600 consulation attempts to 1 attempts per month.\n",
    " \n",
    " >Almost 30 % of the users belong to India.Details of the rest of the users are unknown.\n",
    " \n",
    " >The sources of consultation can be from production or from Test perspective.58% of the source is productionwhereas only 0.1% is from test.Rest of the sources are unknown.\n",
    " \n",
    " >Of the users that avail the consultation onlt 0.5% have hidden history.\n",
    " \n",
    " >Number of Consultation feedback  are very less.\n",
    " \n",
    " >In a wider view call duration frequently limit within 5-10 mins.\n",
    " \n",
    " >27544 out of the 28027 consultations have cost only less than 100 .where as there are very few customers who paid large consultation fees within range of 1700.\n",
    " \n",
    " >Out of the available data, average consultation duration for chat or call is almost equal.\n",
    " \n",
    " >The total spend os user over the month of december is aroound 214000 and astrologer earning is around 10000 which is less the the half the total moneyuser spend.\n",
    " \n",
    " >The relationship between talktime and charges are positively correlated with 0.6 correlation coefficient as expected .That is charge increases with talktime .\n",
    " \n",
    " >The average time it takes for call to be connected is .008 min which is very negligible .\n",
    " \n",
    " >Most call disconnection occurs because of astrologer being busy or not answering the call.\n",
    " \n",
    " >Most of the orders donot have encountered with any refund process. On further analysis the offers also sum to a negligible amount .\n",
    " \n",
    " >From the time series analysis there is an observed trend in the call charges over a month.The charges seems to be low at the begining and end of the month and is increased to middle of a month\n",
    " \n",
    " "
   ]
  },
  {
   "cell_type": "markdown",
   "id": "3b9cada1",
   "metadata": {},
   "source": [
    "## Recomendations\n",
    "\n",
    "#### Improve Chat and Call Success Rate:\n",
    "\n",
    ">Analyze the reasons behind unsuccessful chats and calls (incomplete, failed, pending) and implement strategies to address them.\n",
    "Provide additional training to agents to enhance communication skills and problem-solving abilities.\n",
    "\n",
    "#### Increase Public Live Call and Complimentary Consultations: \n",
    "\n",
    ">Since these consultation processes occur the least, efforts could be made to promote them to users. Offering incentives or discounts for these types of consultations may help increase firms popularity.\n",
    "\n",
    "#### Increase Consultation Feedback:\n",
    "\n",
    ">Encourage users to provide feedback after consultations by offering rewards or incentives.\n",
    "Utilize feedback to identify areas for improvement and tailor services to meet user expectations.\n",
    "\n",
    "#### Monitor and Address Call Charges Trend: \n",
    "\n",
    ">Since there is an observed trend in call charges over a month, monitoring and analyzing this trend can help optimize pricing strategies and resource allocation throughout the month.\n",
    "\n",
    "#### Optimize Guru Allocation: \n",
    "\n",
    ">The wide variation in the number of consultation attempts by gurus suggests that some gurus may be underutilized while others are overloaded. Optimizing the allocation of consultations to gurus based on their availability and expertise could improve efficiency.\n",
    "\n",
    "#### Encourage App Usage:\n",
    "\n",
    ">Promote the use of the mobile app to increase user engagement. Offer incentives or discounts for users who utilize the app for consultations."
   ]
  },
  {
   "cell_type": "markdown",
   "id": "96cc0487",
   "metadata": {},
   "source": [
    "## Task 6: Data Visualization"
   ]
  },
  {
   "cell_type": "code",
   "execution_count": 67,
   "id": "7c7a9428",
   "metadata": {},
   "outputs": [
    {
     "data": {
      "image/png": "[encoded data removed]",
      "text/plain": [
       "<Figure size 640x480 with 1 Axes>"
      ]
     },
     "metadata": {},
     "output_type": "display_data"
    }
   ],
   "source": [
    "ax=plt.bar(call_df['region'].value_counts().index,call_df['region'].value_counts()/call_df['region'].count(),color=[\"#3A7089\", \"#4b4b4c\"])\n",
    "plt.title('Region Distribution',{'font':'serif', 'size':10,'weight':'bold'})\n",
    "plt.show()"
   ]
  },
  {
   "cell_type": "code",
   "execution_count": 68,
   "id": "6efae091",
   "metadata": {},
   "outputs": [
    {
     "data": {
      "image/png": "[encoded data removed]",
      "text/plain": [
       "<Figure size 640x480 with 1 Axes>"
      ]
     },
     "metadata": {},
     "output_type": "display_data"
    }
   ],
   "source": [
    "\n",
    "color_map = [ \"#3A7089\", \"#4b4b4c\",'#99AEBB']\n",
    "plt.pie(call_df['website'].value_counts().values,labels = call_df['website'].value_counts().index,autopct = '%.1f%%',colors = color_map,textprops={'fontsize': 13, 'color': 'black'})\n",
    "plt.title('Websites used',{'font':'serif', 'size':10,'weight':'bold'})\n",
    "plt.show()"
   ]
  },
  {
   "cell_type": "code",
   "execution_count": 69,
   "id": "206258b6",
   "metadata": {},
   "outputs": [
    {
     "data": {
      "text/html": [
       "<div>\n",
       "<style scoped>\n",
       "    .dataframe tbody tr th:only-of-type {\n",
       "        vertical-align: middle;\n",
       "    }\n",
       "\n",
       "    .dataframe tbody tr th {\n",
       "        vertical-align: top;\n",
       "    }\n",
       "\n",
       "    .dataframe thead th {\n",
       "        text-align: right;\n",
       "    }\n",
       "</style>\n",
       "<table border=\"1\" class=\"dataframe\">\n",
       "  <thead>\n",
       "    <tr style=\"text-align: right;\">\n",
       "      <th></th>\n",
       "      <th>chatSeconds</th>\n",
       "      <th>timeDuration</th>\n",
       "      <th>amount</th>\n",
       "      <th>astrologerOnCallDuration</th>\n",
       "      <th>astrologersEarnings</th>\n",
       "      <th>netAmount</th>\n",
       "      <th>userOnCallDuration</th>\n",
       "    </tr>\n",
       "  </thead>\n",
       "  <tbody>\n",
       "    <tr>\n",
       "      <th>chatSeconds</th>\n",
       "      <td>1.000000</td>\n",
       "      <td>0.124879</td>\n",
       "      <td>0.198366</td>\n",
       "      <td>NaN</td>\n",
       "      <td>0.180042</td>\n",
       "      <td>0.468551</td>\n",
       "      <td>NaN</td>\n",
       "    </tr>\n",
       "    <tr>\n",
       "      <th>timeDuration</th>\n",
       "      <td>0.124879</td>\n",
       "      <td>1.000000</td>\n",
       "      <td>0.600373</td>\n",
       "      <td>0.705312</td>\n",
       "      <td>0.558830</td>\n",
       "      <td>0.652289</td>\n",
       "      <td>0.713487</td>\n",
       "    </tr>\n",
       "    <tr>\n",
       "      <th>amount</th>\n",
       "      <td>0.198366</td>\n",
       "      <td>0.600373</td>\n",
       "      <td>1.000000</td>\n",
       "      <td>0.654886</td>\n",
       "      <td>0.995047</td>\n",
       "      <td>0.999976</td>\n",
       "      <td>0.659233</td>\n",
       "    </tr>\n",
       "    <tr>\n",
       "      <th>astrologerOnCallDuration</th>\n",
       "      <td>NaN</td>\n",
       "      <td>0.705312</td>\n",
       "      <td>0.654886</td>\n",
       "      <td>1.000000</td>\n",
       "      <td>0.615304</td>\n",
       "      <td>0.633886</td>\n",
       "      <td>0.998734</td>\n",
       "    </tr>\n",
       "    <tr>\n",
       "      <th>astrologersEarnings</th>\n",
       "      <td>0.180042</td>\n",
       "      <td>0.558830</td>\n",
       "      <td>0.995047</td>\n",
       "      <td>0.615304</td>\n",
       "      <td>1.000000</td>\n",
       "      <td>0.994879</td>\n",
       "      <td>0.619334</td>\n",
       "    </tr>\n",
       "    <tr>\n",
       "      <th>netAmount</th>\n",
       "      <td>0.468551</td>\n",
       "      <td>0.652289</td>\n",
       "      <td>0.999976</td>\n",
       "      <td>0.633886</td>\n",
       "      <td>0.994879</td>\n",
       "      <td>1.000000</td>\n",
       "      <td>0.637724</td>\n",
       "    </tr>\n",
       "    <tr>\n",
       "      <th>userOnCallDuration</th>\n",
       "      <td>NaN</td>\n",
       "      <td>0.713487</td>\n",
       "      <td>0.659233</td>\n",
       "      <td>0.998734</td>\n",
       "      <td>0.619334</td>\n",
       "      <td>0.637724</td>\n",
       "      <td>1.000000</td>\n",
       "    </tr>\n",
       "  </tbody>\n",
       "</table>\n",
       "</div>"
      ],
      "text/plain": [
       "                          chatSeconds  timeDuration    amount  \\\n",
       "chatSeconds                  1.000000      0.124879  0.198366   \n",
       "timeDuration                 0.124879      1.000000  0.600373   \n",
       "amount                       0.198366      0.600373  1.000000   \n",
       "astrologerOnCallDuration          NaN      0.705312  0.654886   \n",
       "astrologersEarnings          0.180042      0.558830  0.995047   \n",
       "netAmount                    0.468551      0.652289  0.999976   \n",
       "userOnCallDuration                NaN      0.713487  0.659233   \n",
       "\n",
       "                          astrologerOnCallDuration  astrologersEarnings  \\\n",
       "chatSeconds                                    NaN             0.180042   \n",
       "timeDuration                              0.705312             0.558830   \n",
       "amount                                    0.654886             0.995047   \n",
       "astrologerOnCallDuration                  1.000000             0.615304   \n",
       "astrologersEarnings                       0.615304             1.000000   \n",
       "netAmount                                 0.633886             0.994879   \n",
       "userOnCallDuration                        0.998734             0.619334   \n",
       "\n",
       "                          netAmount  userOnCallDuration  \n",
       "chatSeconds                0.468551                 NaN  \n",
       "timeDuration               0.652289            0.713487  \n",
       "amount                     0.999976            0.659233  \n",
       "astrologerOnCallDuration   0.633886            0.998734  \n",
       "astrologersEarnings        0.994879            0.619334  \n",
       "netAmount                  1.000000            0.637724  \n",
       "userOnCallDuration         0.637724            1.000000  "
      ]
     },
     "execution_count": 69,
     "metadata": {},
     "output_type": "execute_result"
    }
   ],
   "source": [
    "call_df[['chatSeconds','timeDuration','amount','astrologerOnCallDuration','astrologersEarnings','netAmount','userOnCallDuration']].corr()"
   ]
  },
  {
   "cell_type": "markdown",
   "id": "d7237370",
   "metadata": {},
   "source": [
    "### Please create a line chart showing the trend in call charges over time."
   ]
  },
  {
   "cell_type": "code",
   "execution_count": 70,
   "id": "e3c71500",
   "metadata": {},
   "outputs": [
    {
     "data": {
      "image/png": "[encoded data removed]",
      "text/plain": [
       "<Figure size 640x480 with 1 Axes>"
      ]
     },
     "metadata": {},
     "output_type": "display_data"
    }
   ],
   "source": [
    "call_df['createdAt'] = pd.to_datetime(call_df['createdAt'])\n",
    "charges_over_time = call_df.groupby(call_df['createdAt'].dt.date)['amount'].sum()\n",
    "plt.plot(charges_over_time.index, charges_over_time.values, marker='o', linestyle='-',color=\"#5C8374\")\n",
    "plt.xticks(rotation=90,fontsize=10)\n",
    "plt.title('Trend in Call Charges Over Time')\n",
    "plt.xlabel('Date')\n",
    "plt.ylabel('Total Call Charges')\n",
    "plt.show()"
   ]
  },
  {
   "cell_type": "markdown",
   "id": "c5934ef8",
   "metadata": {},
   "source": [
    "### Create a scatter plot to analyze the relationship between TalkTime and UserSpend."
   ]
  },
  {
   "cell_type": "code",
   "execution_count": 71,
   "id": "e9d23e4d",
   "metadata": {},
   "outputs": [
    {
     "data": {
      "image/png": "[encoded data removed]",
      "text/plain": [
       "<Figure size 640x480 with 1 Axes>"
      ]
     },
     "metadata": {},
     "output_type": "display_data"
    }
   ],
   "source": [
    "plt.scatter(call_df['timeDuration'],call_df['netAmount'],color=\"#4b4b4c\")\n",
    "plt.title('relationship between TalkTime and UserSpend',{'font':'serif', 'size':10,'weight':'bold'})\n",
    "plt.xlabel('TalkTime')\n",
    "plt.ylabel('UserSpend')\n",
    "plt.show()"
   ]
  },
  {
   "cell_type": "markdown",
   "id": "21a9f5ec",
   "metadata": {},
   "source": [
    "## Task 7: Interpretation"
   ]
  },
  {
   "cell_type": "markdown",
   "id": "3764330a",
   "metadata": {},
   "source": [
    ">• What insights can you draw from the histogram of call charges?\n",
    "\n",
    "27544 out of the 28027 consultations have cost only less than 100 .where as there are very few customers who paid large consultation fees within range of 1700.Thus need to look into the criterion for this anomolous \n",
    "\n",
    ">• Based on the line chart, do you see any seasonal patterns in call\n",
    "charges?\n",
    "\n",
    "From the time series analysis there is an observed trend in the call charges over a month.The charges seems to be low at the begining and end of the month and is increased to middle of a month\n",
    "\n",
    ">• What does the scatter plot tell us about the relationship between\n",
    "TalkTime and UserSpend?\n",
    "\n",
    "The relationship between talktime and user spend charges are positively correlated with 0.6 correlation coefficient as expected.That is charge increases with talktime "
   ]
  },
  {
   "cell_type": "code",
   "execution_count": null,
   "id": "984551ee",
   "metadata": {},
   "outputs": [],
   "source": []
  }
 ],
 "metadata": {
  "kernelspec": {
   "display_name": "Python 3 (ipykernel)",
   "language": "python",
   "name": "python3"
  },
  "language_info": {
   "codemirror_mode": {
    "name": "ipython",
    "version": 3
   },
   "file_extension": ".py",
   "mimetype": "text/x-python",
   "name": "python",
   "nbconvert_exporter": "python",
   "pygments_lexer": "ipython3",
   "version": "3.11.4"
  }
 },
 "nbformat": 4,
 "nbformat_minor": 5
}
